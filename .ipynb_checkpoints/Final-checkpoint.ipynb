{
 "cells": [
  {
   "cell_type": "code",
   "execution_count": 8,
   "metadata": {
    "colab": {},
    "colab_type": "code",
    "id": "1y41RA9dBb2P"
   },
   "outputs": [],
   "source": [
    "#nbi:hide_in\n",
    "import matplotlib.pyplot as plt\n",
    "import numpy as np\n",
    "import scipy\n",
    "from ipywidgets import interact\n",
    "from numpy.linalg import norm\n",
    "from scipy.sparse import linalg\n",
    "from sklearn.cluster import KMeans\n",
    "from sklearn.datasets import make_moons, make_circles, make_blobs\n",
    "from IPython.display import display, Markdown, Latex"
   ]
  },
  {
   "cell_type": "code",
   "execution_count": 2,
   "metadata": {
    "colab": {},
    "colab_type": "code",
    "id": "T3lWrHMUB3V1"
   },
   "outputs": [],
   "source": [
    "#nbi:hide_in\n",
    "def spectral_clustering(A, K, seed):\n",
    "    # Calculate Laplacian\n",
    "    D = np.zeros(A.shape)\n",
    "    w = np.sum(A, axis=0)\n",
    "    D.flat[::len(w) + 1] = w ** (-0.5)\n",
    "    L = D.dot(A).dot(D)\n",
    "    \n",
    "    # Calculate Eigen Values\n",
    "    e_val, e_vect = linalg.eigs(L, K)\n",
    "    X = e_vect.real\n",
    "    X_norm = norm(X, axis=1, ord=2)\n",
    "    Y = (X.T / X_norm).T\n",
    "    \n",
    "    # Cluster\n",
    "    kmeans = KMeans(n_clusters=K, random_state=seed)\n",
    "    return kmeans.fit(X).labels_    "
   ]
  },
  {
   "cell_type": "code",
   "execution_count": 3,
   "metadata": {
    "colab": {},
    "colab_type": "code",
    "id": "zfuCtI5NB-GV"
   },
   "outputs": [],
   "source": [
    "#nbi:hide_in\n",
    "def gen_aff(X):\n",
    "    N = X.shape[0]\n",
    "    ans = np.zeros((N, N))\n",
    "    sig = []\n",
    "    for i in range(N):\n",
    "        dists = []\n",
    "        for j in range(N):\n",
    "            dists.append(norm(X[i] - X[j]))\n",
    "        dists.sort()\n",
    "        sig.append(np.mean(dists[:5]))\n",
    "\n",
    "    for i in range(N):\n",
    "        for j in range(N):\n",
    "            dist = norm(X[i] - X[j]) ** 2\n",
    "            ans[i][j] = np.exp(- dist / (2 * sig[i] * sig[j]))\n",
    "    return ans"
   ]
  },
  {
   "cell_type": "code",
   "execution_count": 4,
   "metadata": {
    "colab": {
     "base_uri": "https://localhost:8080/",
     "height": 445
    },
    "colab_type": "code",
    "id": "Uk2ZyrwmB2Nd",
    "outputId": "ff82e1e0-c79f-4e4a-c6f8-40e61aee0c0f",
    "scrolled": false
   },
   "outputs": [],
   "source": [
    "# #nbi:hide_in\n",
    "# #nbi:hide_out\n",
    "\n",
    "# X_mn, y_mn = make_blobs(n_samples=200, centers=5, cluster_std=1.0)\n",
    "# #X_mn, y_mn = make_moons(n_samples=150, noise=0.1)\n",
    "\n",
    "# # X_mn1, y_mn1 = make_circles(n_samples=150, noise=0.1)\n",
    "# # X_mn2, y_mn2 = make_circles(n_samples=150, noise=0.05)\n",
    "\n",
    "# # X_mn2 = np.array(X_mn2)*4\n",
    "# # y_mn2 = np.array(y_mn2)\n",
    "\n",
    "# # X_mn = np.concatenate((X_mn1,X_mn2), axis = 0)\n",
    "# # y_mn = np.append(y_mn1, y_mn2)\n",
    "\n",
    "\n",
    "# K = 2\n",
    "# A = gen_aff(X_mn)\n",
    "# Y = spectral_clustering(A, K, seed=1111)\n",
    "\n",
    "# cmap = 'Spectral'\n",
    "# fig, ax = plt.subplots(figsize=(9,7))\n",
    "# ax.scatter(X_mn[:, 0], X_mn[:, 1], c=Y, cmap=cmap)"
   ]
  },
  {
   "cell_type": "code",
   "execution_count": 5,
   "metadata": {},
   "outputs": [],
   "source": [
    "# #nbi:hide_in\n",
    "# #nbi:hide_out\n",
    "# def generate(n_samples, centers, seed):\n",
    "#     X_mn, y_mn = make_blobs(n_samples=n_samples, centers=centers, cluster_std=1.0, random_state = seed)\n",
    "#     cmap = 'Spectral'\n",
    "#     plt.scatter(X_mn[:, 0], X_mn[:, 1], c=y_mn, cmap=cmap)\n",
    "#     A = gen_aff(X_mn)\n",
    "#     return A\n",
    "\n",
    "# interact(generate, n_samples=(100, 1000, 1), centers=(1, 10, 1), seed=(0, 500, 1));"
   ]
  },
  {
   "cell_type": "code",
   "execution_count": 6,
   "metadata": {
    "colab": {},
    "colab_type": "code",
    "id": "TOn-XM3hPaLY"
   },
   "outputs": [],
   "source": [
    "# #nbi:hide_in\n",
    "# #nbi:hide_out\n",
    "# def cluster(k):\n",
    "#     labels = spectral_clustering(A, k, seed=1111)\n",
    "#     cmap = 'Spectral'\n",
    "#     plt.scatter(X_mn[:, 0], X_mn[:, 1], c=labels, cmap=cmap)\n",
    "\n",
    "# interact(cluster, k=(0, 10, 1));"
   ]
  },
  {
   "cell_type": "code",
   "execution_count": null,
   "metadata": {},
   "outputs": [],
   "source": []
  },
  {
   "cell_type": "code",
   "execution_count": 20,
   "metadata": {
    "scrolled": true
   },
   "outputs": [
    {
     "data": {
      "text/markdown": [
       "# Spectral Clustering \n",
       " -------------------------------------- \n",
       " ### Atishay Jain, Ritik Dutta, Shreyas Singh, Varun Gohil"
      ],
      "text/plain": [
       "<IPython.core.display.Markdown object>"
      ]
     },
     "metadata": {},
     "output_type": "display_data"
    }
   ],
   "source": [
    "#nbi:hide_in\n",
    "data = \"# Spectral Clustering \\n -------------------------------------- \\n ### Atishay Jain, Ritik Dutta, Shreyas Singh, Varun Gohil\" \n",
    "display(Markdown(data))\n"
   ]
  },
  {
   "cell_type": "code",
   "execution_count": 7,
   "metadata": {
    "scrolled": true
   },
   "outputs": [
    {
     "data": {
      "application/vnd.jupyter.widget-view+json": {
       "model_id": "11226980b759490f8bdb85a2524d3fa0",
       "version_major": 2,
       "version_minor": 0
      },
      "text/plain": [
       "interactive(children=(IntSlider(value=5, description='k', max=10, min=1), Dropdown(description='data_type', op…"
      ]
     },
     "metadata": {},
     "output_type": "display_data"
    }
   ],
   "source": [
    "#nbi:hide_in\n",
    "def spectral_cluster(k , data_type, n_samples, centers, seed, noise):\n",
    "    if data_type == \"Blob\":\n",
    "        X_mn, y_mn = make_blobs(n_samples=n_samples, centers=centers, cluster_std=1.0, random_state = seed)\n",
    "    elif data_type == \"Moon\":\n",
    "        X_mn, y_mn = make_moons(n_samples=n_samples, random_state = seed, noise = noise)\n",
    "    else:\n",
    "        pass\n",
    "    A = gen_aff(X_mn)\n",
    "    labels = spectral_clustering(A, k, seed=1111)\n",
    "    cmap = 'Spectral'\n",
    "    plt.scatter(X_mn[:, 0], X_mn[:, 1], c=labels, cmap=cmap)\n",
    "    \n",
    "interact(spectral_cluster, k = (1, 10, 1), data_type = [\"Blob\", \"Moon\", \"Circle\"],  n_samples=(10, 200, 1), centers=(1, 10, 1), noise = (0, 0.1, 0.01), seed=(0, 500, 1));"
   ]
  }
 ],
 "metadata": {
  "accelerator": "GPU",
  "colab": {
   "collapsed_sections": [],
   "name": "Spectral_demo.ipynb",
   "provenance": [],
   "version": "0.3.2"
  },
  "kernelspec": {
   "display_name": "Python 3",
   "language": "python",
   "name": "python3"
  },
  "language_info": {
   "codemirror_mode": {
    "name": "ipython",
    "version": 3
   },
   "file_extension": ".py",
   "mimetype": "text/x-python",
   "name": "python",
   "nbconvert_exporter": "python",
   "pygments_lexer": "ipython3",
   "version": "3.5.2"
  }
 },
 "nbformat": 4,
 "nbformat_minor": 1
}
