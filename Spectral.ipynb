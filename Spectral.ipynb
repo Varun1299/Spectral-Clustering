{
  "nbformat": 4,
  "nbformat_minor": 0,
  "metadata": {
    "colab": {
      "name": "Spectral.ipynb",
      "version": "0.3.2",
      "provenance": [],
      "collapsed_sections": [],
      "include_colab_link": true
    },
    "kernelspec": {
      "name": "python3",
      "display_name": "Python 3"
    }
  },
  "cells": [
    {
      "cell_type": "markdown",
      "metadata": {
        "id": "view-in-github",
        "colab_type": "text"
      },
      "source": [
        "<a href=\"https://colab.research.google.com/github/Varun1299/Spectral-Clustering/blob/master/Spectral.ipynb\" target=\"_parent\"><img src=\"https://colab.research.google.com/assets/colab-badge.svg\" alt=\"Open In Colab\"/></a>"
      ]
    },
    {
      "metadata": {
        "id": "4VdVJ_sW1RBK",
        "colab_type": "code",
        "colab": {}
      },
      "cell_type": "code",
      "source": [
        "import networkx as nx\n",
        "import numpy as np\n",
        "from sklearn.cluster import KMeans\n",
        "import matplotlib.pyplot as plt\n",
        "import math"
      ],
      "execution_count": 0,
      "outputs": []
    },
    {
      "metadata": {
        "id": "TwCkgRTd1lLa",
        "colab_type": "code",
        "colab": {}
      },
      "cell_type": "code",
      "source": [
        "G=nx.Graph()"
      ],
      "execution_count": 0,
      "outputs": []
    },
    {
      "metadata": {
        "id": "9_mVMBDR2Ene",
        "colab_type": "code",
        "colab": {}
      },
      "cell_type": "code",
      "source": [
        "G.add_edge(1,2, weight = 1)\n",
        "G.add_edge(1,3, weight = 1)\n",
        "G.add_edge(2,3, weight = 1)\n",
        "G.add_edge(2,4, weight = 0.2)\n",
        "G.add_edge(4,5, weight = 1)\n",
        "G.add_edge(5,6, weight = 1)\n",
        "G.add_edge(4,6, weight = 1)"
      ],
      "execution_count": 0,
      "outputs": []
    },
    {
      "metadata": {
        "id": "WxeVtnjg2Raq",
        "colab_type": "code",
        "outputId": "d9aa390f-f3c9-4dfa-f2bd-7ba51647519c",
        "colab": {
          "base_uri": "https://localhost:8080/",
          "height": 34
        }
      },
      "cell_type": "code",
      "source": [
        "G.nodes"
      ],
      "execution_count": 59,
      "outputs": [
        {
          "output_type": "execute_result",
          "data": {
            "text/plain": [
              "NodeView((1, 2, 3, 4, 5, 6))"
            ]
          },
          "metadata": {
            "tags": []
          },
          "execution_count": 59
        }
      ]
    },
    {
      "metadata": {
        "id": "2jx5r4BX2UxI",
        "colab_type": "code",
        "colab": {}
      },
      "cell_type": "code",
      "source": [
        "A = nx.adjacency_matrix(G)"
      ],
      "execution_count": 0,
      "outputs": []
    },
    {
      "metadata": {
        "id": "xkBzHKNM2ZMr",
        "colab_type": "code",
        "outputId": "3e4718e0-4680-441b-bcc5-f9928cc18e73",
        "colab": {
          "base_uri": "https://localhost:8080/",
          "height": 218
        }
      },
      "cell_type": "code",
      "source": [
        "print(A.todense())\n",
        "print(-1*A.todense())"
      ],
      "execution_count": 61,
      "outputs": [
        {
          "output_type": "stream",
          "text": [
            "[[0.  1.  1.  0.  0.  0. ]\n",
            " [1.  0.  1.  0.2 0.  0. ]\n",
            " [1.  1.  0.  0.  0.  0. ]\n",
            " [0.  0.2 0.  0.  1.  1. ]\n",
            " [0.  0.  0.  1.  0.  1. ]\n",
            " [0.  0.  0.  1.  1.  0. ]]\n",
            "[[ 0.  -1.  -1.   0.   0.   0. ]\n",
            " [-1.   0.  -1.  -0.2  0.   0. ]\n",
            " [-1.  -1.   0.   0.   0.   0. ]\n",
            " [ 0.  -0.2  0.   0.  -1.  -1. ]\n",
            " [ 0.   0.   0.  -1.   0.  -1. ]\n",
            " [ 0.   0.   0.  -1.  -1.   0. ]]\n"
          ],
          "name": "stdout"
        }
      ]
    },
    {
      "metadata": {
        "id": "zEAPPRhE2dY0",
        "colab_type": "code",
        "colab": {}
      },
      "cell_type": "code",
      "source": [
        "D = np.zeros((len(G.nodes), len(G.nodes)))  "
      ],
      "execution_count": 0,
      "outputs": []
    },
    {
      "metadata": {
        "id": "v2I_CTr73I3B",
        "colab_type": "code",
        "outputId": "93b42b96-aaf2-4f0c-cd28-c7d3608f1f12",
        "colab": {
          "base_uri": "https://localhost:8080/",
          "height": 134
        }
      },
      "cell_type": "code",
      "source": [
        "D = np.zeros((len(G.nodes), len(G.nodes)))  \n",
        "indexer = 0\n",
        "for node in G.nodes:\n",
        "  D[indexer][indexer] = G.degree(node)\n",
        "  indexer += 1\n",
        "print(D)\n",
        "print(G.degree(6))"
      ],
      "execution_count": 63,
      "outputs": [
        {
          "output_type": "stream",
          "text": [
            "[[2. 0. 0. 0. 0. 0.]\n",
            " [0. 3. 0. 0. 0. 0.]\n",
            " [0. 0. 2. 0. 0. 0.]\n",
            " [0. 0. 0. 3. 0. 0.]\n",
            " [0. 0. 0. 0. 2. 0.]\n",
            " [0. 0. 0. 0. 0. 2.]]\n",
            "2\n"
          ],
          "name": "stdout"
        }
      ]
    },
    {
      "metadata": {
        "id": "vCiy9K8z31cJ",
        "colab_type": "code",
        "colab": {}
      },
      "cell_type": "code",
      "source": [
        "L = D - A"
      ],
      "execution_count": 0,
      "outputs": []
    },
    {
      "metadata": {
        "id": "2BcmbJ7a85iH",
        "colab_type": "code",
        "outputId": "119fd737-c058-49ad-b0a7-d6a528266644",
        "colab": {
          "base_uri": "https://localhost:8080/",
          "height": 118
        }
      },
      "cell_type": "code",
      "source": [
        "L"
      ],
      "execution_count": 65,
      "outputs": [
        {
          "output_type": "execute_result",
          "data": {
            "text/plain": [
              "matrix([[ 2. , -1. , -1. ,  0. ,  0. ,  0. ],\n",
              "        [-1. ,  3. , -1. , -0.2,  0. ,  0. ],\n",
              "        [-1. , -1. ,  2. ,  0. ,  0. ,  0. ],\n",
              "        [ 0. , -0.2,  0. ,  3. , -1. , -1. ],\n",
              "        [ 0. ,  0. ,  0. , -1. ,  2. , -1. ],\n",
              "        [ 0. ,  0. ,  0. , -1. , -1. ,  2. ]])"
            ]
          },
          "metadata": {
            "tags": []
          },
          "execution_count": 65
        }
      ]
    },
    {
      "metadata": {
        "id": "wgtmjIF868-g",
        "colab_type": "code",
        "colab": {}
      },
      "cell_type": "code",
      "source": [
        "for rowidx in range(L.shape[0]):\n",
        "  L[rowidx] = L[rowidx]/float(L[rowidx, rowidx])"
      ],
      "execution_count": 0,
      "outputs": []
    },
    {
      "metadata": {
        "id": "VTsuaLRh7ivj",
        "colab_type": "code",
        "outputId": "27854f48-4baf-4b60-a5e1-3aec8a661fc4",
        "colab": {
          "base_uri": "https://localhost:8080/",
          "height": 218
        }
      },
      "cell_type": "code",
      "source": [
        "L"
      ],
      "execution_count": 67,
      "outputs": [
        {
          "output_type": "execute_result",
          "data": {
            "text/plain": [
              "matrix([[ 1.        , -0.5       , -0.5       ,  0.        ,  0.        ,\n",
              "          0.        ],\n",
              "        [-0.33333333,  1.        , -0.33333333, -0.06666667,  0.        ,\n",
              "          0.        ],\n",
              "        [-0.5       , -0.5       ,  1.        ,  0.        ,  0.        ,\n",
              "          0.        ],\n",
              "        [ 0.        , -0.06666667,  0.        ,  1.        , -0.33333333,\n",
              "         -0.33333333],\n",
              "        [ 0.        ,  0.        ,  0.        , -0.5       ,  1.        ,\n",
              "         -0.5       ],\n",
              "        [ 0.        ,  0.        ,  0.        , -0.5       , -0.5       ,\n",
              "          1.        ]])"
            ]
          },
          "metadata": {
            "tags": []
          },
          "execution_count": 67
        }
      ]
    },
    {
      "metadata": {
        "id": "nTp_L_8175Bz",
        "colab_type": "code",
        "outputId": "c8365354-ea12-408a-ab09-0545ac0e558e",
        "colab": {
          "base_uri": "https://localhost:8080/",
          "height": 34
        }
      },
      "cell_type": "code",
      "source": [
        "L.item((1,1))"
      ],
      "execution_count": 68,
      "outputs": [
        {
          "output_type": "execute_result",
          "data": {
            "text/plain": [
              "1.0"
            ]
          },
          "metadata": {
            "tags": []
          },
          "execution_count": 68
        }
      ]
    },
    {
      "metadata": {
        "id": "JMf1JU6y77V6",
        "colab_type": "code",
        "colab": {}
      },
      "cell_type": "code",
      "source": [
        "eigvals,eigvecs = np.linalg.eig(L)"
      ],
      "execution_count": 0,
      "outputs": []
    },
    {
      "metadata": {
        "id": "j5EXrrV_8qxH",
        "colab_type": "code",
        "outputId": "b7177e66-979d-4880-8be1-1db8a1e99e5c",
        "colab": {
          "base_uri": "https://localhost:8080/",
          "height": 218
        }
      },
      "cell_type": "code",
      "source": [
        "\n",
        "eigvecs"
      ],
      "execution_count": 70,
      "outputs": [
        {
          "output_type": "execute_result",
          "data": {
            "text/plain": [
              "matrix([[-4.35194140e-01, -4.45629685e-01, -7.07106781e-01,\n",
              "          3.23498320e-01,  3.03356177e-01, -1.11459175e-03],\n",
              "        [-3.48155312e-01, -3.20668626e-01, -4.49559703e-15,\n",
              "         -5.39163866e-01, -5.62094351e-01,  1.83111978e-16],\n",
              "        [-4.35194140e-01, -4.45629685e-01,  7.07106781e-01,\n",
              "          3.23498320e-01,  3.03356177e-01,  1.11459175e-03],\n",
              "        [-3.48155312e-01,  3.20668626e-01, -2.06055195e-16,\n",
              "         -5.39163866e-01,  5.62094351e-01, -2.66912227e-16],\n",
              "        [-4.35194140e-01,  4.45629685e-01,  5.90229285e-17,\n",
              "          3.23498320e-01, -3.03356177e-01, -7.07105903e-01],\n",
              "        [-4.35194140e-01,  4.45629685e-01,  3.12673328e-17,\n",
              "          3.23498320e-01, -3.03356177e-01,  7.07105903e-01]])"
            ]
          },
          "metadata": {
            "tags": []
          },
          "execution_count": 70
        }
      ]
    },
    {
      "metadata": {
        "id": "ziofthdg8szH",
        "colab_type": "code",
        "outputId": "def5e800-c97a-4e5c-ed65-f68e4a0983ba",
        "colab": {
          "base_uri": "https://localhost:8080/",
          "height": 50
        }
      },
      "cell_type": "code",
      "source": [
        "eigvals"
      ],
      "execution_count": 71,
      "outputs": [
        {
          "output_type": "execute_result",
          "data": {
            "text/plain": [
              "array([0.1       , 0.14020729, 1.5       , 1.33333333, 1.42645938,\n",
              "       1.5       ])"
            ]
          },
          "metadata": {
            "tags": []
          },
          "execution_count": 71
        }
      ]
    },
    {
      "metadata": {
        "id": "Aus3ZkYf8tkN",
        "colab_type": "code",
        "colab": {}
      },
      "cell_type": "code",
      "source": [
        "num_clusters = 2"
      ],
      "execution_count": 0,
      "outputs": []
    },
    {
      "metadata": {
        "id": "QKErgnV6H405",
        "colab_type": "code",
        "colab": {}
      },
      "cell_type": "code",
      "source": [
        "selected_eigvecs = []\n",
        "while len(selected_eigvecs) < num_clusters:\n",
        "  idx = np.where(eigvals == min(eigvals))\n",
        "  for i in idx[0]:\n",
        "    selected_eigvecs.append(np.array(eigvecs[i])[0])\n",
        "    if len(selected_eigvecs) == num_clusters:\n",
        "      break\n",
        "selected_eigvecs = np.array(selected_eigvecs)"
      ],
      "execution_count": 0,
      "outputs": []
    },
    {
      "metadata": {
        "id": "uUJqqPb-FLrD",
        "colab_type": "code",
        "colab": {}
      },
      "cell_type": "code",
      "source": [
        ""
      ],
      "execution_count": 0,
      "outputs": []
    },
    {
      "metadata": {
        "id": "T_83vsD7FLib",
        "colab_type": "code",
        "outputId": "39b58c69-fdee-451a-b003-3d8fd7e38fc1",
        "colab": {
          "base_uri": "https://localhost:8080/",
          "height": 118
        }
      },
      "cell_type": "code",
      "source": [
        "nodes = []\n",
        "for i in range(len(G.nodes)):\n",
        "  nodes.append(selected_eigvecs[:, i])\n",
        "nodes"
      ],
      "execution_count": 74,
      "outputs": [
        {
          "output_type": "execute_result",
          "data": {
            "text/plain": [
              "[array([-0.43519414, -0.43519414]),\n",
              " array([-0.44562968, -0.44562968]),\n",
              " array([-0.70710678, -0.70710678]),\n",
              " array([0.32349832, 0.32349832]),\n",
              " array([0.30335618, 0.30335618]),\n",
              " array([-0.00111459, -0.00111459])]"
            ]
          },
          "metadata": {
            "tags": []
          },
          "execution_count": 74
        }
      ]
    },
    {
      "metadata": {
        "id": "tsLzhpU_BdGJ",
        "colab_type": "code",
        "colab": {}
      },
      "cell_type": "code",
      "source": [
        "kmeans = KMeans(n_clusters=2, init = 'k-means++').fit(nodes)"
      ],
      "execution_count": 0,
      "outputs": []
    },
    {
      "metadata": {
        "id": "z0mPyU7dCRG3",
        "colab_type": "code",
        "outputId": "d8583564-8d4a-4b41-97dd-10fe385293ef",
        "colab": {
          "base_uri": "https://localhost:8080/",
          "height": 34
        }
      },
      "cell_type": "code",
      "source": [
        "kmeans.labels_"
      ],
      "execution_count": 76,
      "outputs": [
        {
          "output_type": "execute_result",
          "data": {
            "text/plain": [
              "array([1, 1, 1, 0, 0, 0], dtype=int32)"
            ]
          },
          "metadata": {
            "tags": []
          },
          "execution_count": 76
        }
      ]
    },
    {
      "metadata": {
        "id": "k2uyL81LERVg",
        "colab_type": "code",
        "colab": {}
      },
      "cell_type": "code",
      "source": [
        ""
      ],
      "execution_count": 0,
      "outputs": []
    },
    {
      "metadata": {
        "id": "sbVwaDtNDeuc",
        "colab_type": "code",
        "outputId": "e5fa1fef-ebb8-43cb-d4b8-7502549ae8df",
        "colab": {
          "base_uri": "https://localhost:8080/",
          "height": 494
        }
      },
      "cell_type": "code",
      "source": [
        "nx.draw(G, pos=nx.spring_layout(G), with_labels = True, node_color = kmeans.labels_)\n",
        "plt.show"
      ],
      "execution_count": 77,
      "outputs": [
        {
          "output_type": "stream",
          "text": [
            "/usr/local/lib/python3.6/dist-packages/networkx/drawing/nx_pylab.py:611: MatplotlibDeprecationWarning: isinstance(..., numbers.Number)\n",
            "  if cb.is_numlike(alpha):\n"
          ],
          "name": "stderr"
        },
        {
          "output_type": "execute_result",
          "data": {
            "text/plain": [
              "<function matplotlib.pyplot.show>"
            ]
          },
          "metadata": {
            "tags": []
          },
          "execution_count": 77
        },
        {
          "output_type": "display_data",
          "data": {
            "image/png": "[encoded data removed]",
            "text/plain": [
              "<Figure size 576x396 with 1 Axes>"
            ]
          },
          "metadata": {
            "tags": []
          }
        }
      ]
    },
    {
      "metadata": {
        "id": "KJPyNCLhDtCd",
        "colab_type": "code",
        "colab": {}
      },
      "cell_type": "code",
      "source": [
        "def _readData(inpFile, inpType = 'graph'):\n",
        "  \"\"\"Reads data from input file and interprets the data as per the input type.\n",
        "     It constructs a graph using networkX from the data and returns it.\"\"\"\n",
        "  if inpType == 'graph':\n",
        "    G = nx.graph()\n",
        "    file = open(inpFile, 'r')\n",
        "    while True:\n",
        "      line = file.readline()\n",
        "      if not line:\n",
        "        break\n",
        "      info = line.split(',')\n",
        "      if len(info) == 3:\n",
        "        G.add_edge(info[0],info[1], weight = float(info[2][:-1]))\n",
        "      else:\n",
        "        G.add_edge(info[0],info[1])\n",
        "    file.close()\n",
        "    return G\n",
        "  elif inpType == 'points':\n",
        "    points = []\n",
        "    file = open(inpFile, 'r')\n",
        "    while True:\n",
        "      line = file.readline()\n",
        "      if not line:\n",
        "        break\n",
        "      points.append(np.array(list(map(float, line.strip().split(',')))))\n",
        "    file.close()\n",
        "    G = nx.graph()\n",
        "    for i in range(len(points)):\n",
        "      for j in range(i+1, len(points)):\n",
        "        dist = np.linalg.norm(points[i], points[j])\n",
        "        sim = math.exp(-1*dist)\n",
        "        G.add_edge(i,j, weight = sim)\n",
        "    return G\n",
        "  else:\n",
        "    raise Exception(\"Specified input type not supported!\")"
      ],
      "execution_count": 0,
      "outputs": []
    },
    {
      "metadata": {
        "id": "k7W6OuL5N9ln",
        "colab_type": "code",
        "colab": {}
      },
      "cell_type": "code",
      "source": [
        "def _constructNormalizedLaplacian(G):\n",
        "  L = -1*nx.adjacency_matrix(G)\n",
        "  nodes = list(G.nodes())\n",
        "  for i in range(len(nodes)):\n",
        "    L[i] = G.degree(nodes[i])\n",
        "  for rowidx in range(L.shape[0]):\n",
        "    L[rowidx] = L[rowidx]/float(L[rowidx, rowidx])\n",
        "  return L"
      ],
      "execution_count": 0,
      "outputs": []
    },
    {
      "metadata": {
        "id": "ECWgjqmvn7nn",
        "colab_type": "code",
        "colab": {}
      },
      "cell_type": "code",
      "source": [
        "def _selectEigVecs(eigvals, eigvecs, num_clusters):\n",
        "  selected_eigvecs = []\n",
        "  while len(selected_eigvecs) < num_clusters:\n",
        "    idx = np.where(eigvals == min(eigvals))\n",
        "    for i in idx[0]:\n",
        "      selected_eigvecs.append(np.array(eigvecs[i])[0])\n",
        "      if len(selected_eigvecs) == num_clusters:\n",
        "        break\n",
        "  selected_eigvecs = np.array(selected_eigvecs)\n",
        "  return selected_eigvecs"
      ],
      "execution_count": 0,
      "outputs": []
    },
    {
      "metadata": {
        "id": "5r-iJJrmpYZF",
        "colab_type": "code",
        "colab": {}
      },
      "cell_type": "code",
      "source": [
        "def _makeNodes(selectedEigVecs, num_nodes):\n",
        "  nodes = []\n",
        "  for i in range(num_nodes):\n",
        "    nodes.append(selectedEigVecs[:,i])"
      ],
      "execution_count": 0,
      "outputs": []
    },
    {
      "metadata": {
        "id": "8mwsixkiM_d2",
        "colab_type": "code",
        "colab": {}
      },
      "cell_type": "code",
      "source": [
        "def spectralClustering(inpFile, inpType, num_clusters = 2):\n",
        "  G = _readData(inpFile, inpType)\n",
        "  L = _constructNormalizedLaplacian(G)\n",
        "  eigvals,eigvecs = np.linalg.eig(L)\n",
        "  selectedEigVecs = _selectEigVecs(eigvals, eigvecs, num_clusters)\n",
        "  nodes = _makeNodes(selectedEigVecs, len(G.nodes))\n",
        "  kmeans = KMeans(n_clusters = num_clusters, init = 'k-means++').fit(nodes)\n",
        "  print(kmeans.labels_)"
      ],
      "execution_count": 0,
      "outputs": []
    },
    {
      "metadata": {
        "id": "Sneq63jgNLmJ",
        "colab_type": "code",
        "outputId": "f10d6772-4774-4ad4-ed75-f198f53df195",
        "colab": {
          "base_uri": "https://localhost:8080/",
          "height": 34
        }
      },
      "cell_type": "code",
      "source": [
        "s = \"1,2,3\\n\"\n",
        "s = s.strip().split(',')\n",
        "# l = s.split(',')\n",
        "print(s)"
      ],
      "execution_count": 83,
      "outputs": [
        {
          "output_type": "stream",
          "text": [
            "['1', '2', '3']\n"
          ],
          "name": "stdout"
        }
      ]
    },
    {
      "metadata": {
        "id": "2w7GV9OJNM6V",
        "colab_type": "code",
        "outputId": "98a6c79a-3035-4030-ac62-a59f90f84861",
        "colab": {
          "base_uri": "https://localhost:8080/",
          "height": 34
        }
      },
      "cell_type": "code",
      "source": [
        "list(G.nodes())"
      ],
      "execution_count": 84,
      "outputs": [
        {
          "output_type": "execute_result",
          "data": {
            "text/plain": [
              "[1, 2, 3, 4, 5, 6]"
            ]
          },
          "metadata": {
            "tags": []
          },
          "execution_count": 84
        }
      ]
    },
    {
      "metadata": {
        "id": "c2go3Y4dOZZL",
        "colab_type": "code",
        "colab": {}
      },
      "cell_type": "code",
      "source": [
        "l = np.array([[1,2,3], [1,2,3]])"
      ],
      "execution_count": 0,
      "outputs": []
    },
    {
      "metadata": {
        "id": "sfQeYGmlPjBg",
        "colab_type": "code",
        "outputId": "974cac72-4347-40a4-bfea-d7a7163a056e",
        "colab": {
          "base_uri": "https://localhost:8080/",
          "height": 50
        }
      },
      "cell_type": "code",
      "source": [
        "print(l)"
      ],
      "execution_count": 86,
      "outputs": [
        {
          "output_type": "stream",
          "text": [
            "[[1 2 3]\n",
            " [1 2 3]]\n"
          ],
          "name": "stdout"
        }
      ]
    },
    {
      "metadata": {
        "id": "Clo4RC6NPj2_",
        "colab_type": "code",
        "colab": {}
      },
      "cell_type": "code",
      "source": [
        ""
      ],
      "execution_count": 0,
      "outputs": []
    },
    {
      "metadata": {
        "id": "4sYmcrDuPpwi",
        "colab_type": "code",
        "outputId": "a8b5f292-24f2-4691-ab07-05e66b6a8341",
        "colab": {
          "base_uri": "https://localhost:8080/",
          "height": 50
        }
      },
      "cell_type": "code",
      "source": [
        "print(l)"
      ],
      "execution_count": 87,
      "outputs": [
        {
          "output_type": "stream",
          "text": [
            "[[1 2 3]\n",
            " [1 2 3]]\n"
          ],
          "name": "stdout"
        }
      ]
    },
    {
      "metadata": {
        "id": "9VYo2x5oP0CW",
        "colab_type": "code",
        "colab": {}
      },
      "cell_type": "code",
      "source": [
        ""
      ],
      "execution_count": 0,
      "outputs": []
    }
  ]
}