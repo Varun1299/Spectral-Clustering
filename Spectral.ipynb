{
  "nbformat": 4,
  "nbformat_minor": 0,
  "metadata": {
    "colab": {
      "name": "Spectral.ipynb",
      "version": "0.3.2",
      "provenance": [],
      "collapsed_sections": [],
      "include_colab_link": true
    },
    "kernelspec": {
      "name": "python3",
      "display_name": "Python 3"
    }
  },
  "cells": [
    {
      "cell_type": "markdown",
      "metadata": {
        "id": "view-in-github",
        "colab_type": "text"
      },
      "source": [
        "<a href=\"https://colab.research.google.com/github/Varun1299/Spectral-Clustering/blob/master/Spectral.ipynb\" target=\"_parent\"><img src=\"https://colab.research.google.com/assets/colab-badge.svg\" alt=\"Open In Colab\"/></a>"
      ]
    },
    {
      "metadata": {
        "id": "4VdVJ_sW1RBK",
        "colab_type": "code",
        "colab": {}
      },
      "cell_type": "code",
      "source": [
        "import networkx as nx\n",
        "import numpy as np"
      ],
      "execution_count": 0,
      "outputs": []
    },
    {
      "metadata": {
        "id": "TwCkgRTd1lLa",
        "colab_type": "code",
        "colab": {}
      },
      "cell_type": "code",
      "source": [
        "G=nx.Graph()"
      ],
      "execution_count": 0,
      "outputs": []
    },
    {
      "metadata": {
        "id": "9_mVMBDR2Ene",
        "colab_type": "code",
        "colab": {}
      },
      "cell_type": "code",
      "source": [
        "G.add_edge(1,2)\n",
        "G.add_edge(1,3)\n",
        "G.add_edge(3,2)\n",
        "G.add_edge(6,5)\n",
        "G.add_edge(6,4)\n",
        "G.add_edge(4,5)"
      ],
      "execution_count": 0,
      "outputs": []
    },
    {
      "metadata": {
        "id": "WxeVtnjg2Raq",
        "colab_type": "code",
        "colab": {
          "base_uri": "https://localhost:8080/",
          "height": 34
        },
        "outputId": "b892f5b8-6479-4975-f6be-5faa20b9e022"
      },
      "cell_type": "code",
      "source": [
        "G.nodes"
      ],
      "execution_count": 18,
      "outputs": [
        {
          "output_type": "execute_result",
          "data": {
            "text/plain": [
              "NodeView((1, 2, 3, 6, 5, 4))"
            ]
          },
          "metadata": {
            "tags": []
          },
          "execution_count": 18
        }
      ]
    },
    {
      "metadata": {
        "id": "2jx5r4BX2UxI",
        "colab_type": "code",
        "colab": {}
      },
      "cell_type": "code",
      "source": [
        "A = nx.adjacency_matrix(G)"
      ],
      "execution_count": 0,
      "outputs": []
    },
    {
      "metadata": {
        "id": "xkBzHKNM2ZMr",
        "colab_type": "code",
        "colab": {
          "base_uri": "https://localhost:8080/",
          "height": 118
        },
        "outputId": "710ee4e4-472b-45c3-ba22-35489bd21543"
      },
      "cell_type": "code",
      "source": [
        "print(A.todense())"
      ],
      "execution_count": 20,
      "outputs": [
        {
          "output_type": "stream",
          "text": [
            "[[0 1 1 0 0 0]\n",
            " [1 0 1 0 0 0]\n",
            " [1 1 0 0 0 0]\n",
            " [0 0 0 0 1 1]\n",
            " [0 0 0 1 0 1]\n",
            " [0 0 0 1 1 0]]\n"
          ],
          "name": "stdout"
        }
      ]
    },
    {
      "metadata": {
        "id": "zEAPPRhE2dY0",
        "colab_type": "code",
        "colab": {}
      },
      "cell_type": "code",
      "source": [
        "D = np.zeros((len(G.nodes), len(G.nodes)))  "
      ],
      "execution_count": 0,
      "outputs": []
    },
    {
      "metadata": {
        "id": "v2I_CTr73I3B",
        "colab_type": "code",
        "colab": {
          "base_uri": "https://localhost:8080/",
          "height": 134
        },
        "outputId": "599ec227-c640-42f4-f6ee-53cde073192e"
      },
      "cell_type": "code",
      "source": [
        "indexer = 0\n",
        "for node in G.nodes:\n",
        "  D[indexer][indexer] = G.degree(node)\n",
        "  indexer += 1\n",
        "print(D)\n",
        "print(G.degree(6))"
      ],
      "execution_count": 22,
      "outputs": [
        {
          "output_type": "stream",
          "text": [
            "[[2. 0. 0. 0. 0. 0.]\n",
            " [0. 2. 0. 0. 0. 0.]\n",
            " [0. 0. 2. 0. 0. 0.]\n",
            " [0. 0. 0. 2. 0. 0.]\n",
            " [0. 0. 0. 0. 2. 0.]\n",
            " [0. 0. 0. 0. 0. 2.]]\n",
            "2\n"
          ],
          "name": "stdout"
        }
      ]
    },
    {
      "metadata": {
        "id": "vCiy9K8z31cJ",
        "colab_type": "code",
        "colab": {}
      },
      "cell_type": "code",
      "source": [
        "L = D - A"
      ],
      "execution_count": 0,
      "outputs": []
    },
    {
      "metadata": {
        "id": "2BcmbJ7a85iH",
        "colab_type": "code",
        "colab": {
          "base_uri": "https://localhost:8080/",
          "height": 118
        },
        "outputId": "63fad919-c01e-427c-b609-cfc46178ab2c"
      },
      "cell_type": "code",
      "source": [
        "L"
      ],
      "execution_count": 24,
      "outputs": [
        {
          "output_type": "execute_result",
          "data": {
            "text/plain": [
              "matrix([[ 2., -1., -1.,  0.,  0.,  0.],\n",
              "        [-1.,  2., -1.,  0.,  0.,  0.],\n",
              "        [-1., -1.,  2.,  0.,  0.,  0.],\n",
              "        [ 0.,  0.,  0.,  2., -1., -1.],\n",
              "        [ 0.,  0.,  0., -1.,  2., -1.],\n",
              "        [ 0.,  0.,  0., -1., -1.,  2.]])"
            ]
          },
          "metadata": {
            "tags": []
          },
          "execution_count": 24
        }
      ]
    },
    {
      "metadata": {
        "id": "wgtmjIF868-g",
        "colab_type": "code",
        "colab": {}
      },
      "cell_type": "code",
      "source": [
        "for rowidx in range(L.shape[0]):\n",
        "  L[rowidx] = L[rowidx]/float(L.item(rowidx, rowidx))"
      ],
      "execution_count": 0,
      "outputs": []
    },
    {
      "metadata": {
        "id": "VTsuaLRh7ivj",
        "colab_type": "code",
        "colab": {
          "base_uri": "https://localhost:8080/",
          "height": 118
        },
        "outputId": "2004988a-94b3-482e-bdf5-9c9e4689eb17"
      },
      "cell_type": "code",
      "source": [
        "L"
      ],
      "execution_count": 26,
      "outputs": [
        {
          "output_type": "execute_result",
          "data": {
            "text/plain": [
              "matrix([[ 1. , -0.5, -0.5,  0. ,  0. ,  0. ],\n",
              "        [-0.5,  1. , -0.5,  0. ,  0. ,  0. ],\n",
              "        [-0.5, -0.5,  1. ,  0. ,  0. ,  0. ],\n",
              "        [ 0. ,  0. ,  0. ,  1. , -0.5, -0.5],\n",
              "        [ 0. ,  0. ,  0. , -0.5,  1. , -0.5],\n",
              "        [ 0. ,  0. ,  0. , -0.5, -0.5,  1. ]])"
            ]
          },
          "metadata": {
            "tags": []
          },
          "execution_count": 26
        }
      ]
    },
    {
      "metadata": {
        "id": "nTp_L_8175Bz",
        "colab_type": "code",
        "colab": {
          "base_uri": "https://localhost:8080/",
          "height": 34
        },
        "outputId": "08a6bbc0-ff8c-49da-986e-4cb414be8bab"
      },
      "cell_type": "code",
      "source": [
        "L.item((1,1))"
      ],
      "execution_count": 27,
      "outputs": [
        {
          "output_type": "execute_result",
          "data": {
            "text/plain": [
              "1.0"
            ]
          },
          "metadata": {
            "tags": []
          },
          "execution_count": 27
        }
      ]
    },
    {
      "metadata": {
        "id": "JMf1JU6y77V6",
        "colab_type": "code",
        "colab": {}
      },
      "cell_type": "code",
      "source": [
        "eigvals,eigvecs = np.linalg.eig(L)"
      ],
      "execution_count": 0,
      "outputs": []
    },
    {
      "metadata": {
        "id": "j5EXrrV_8qxH",
        "colab_type": "code",
        "colab": {
          "base_uri": "https://localhost:8080/",
          "height": 218
        },
        "outputId": "f50c2df6-d388-4cbe-8431-93f12793db53"
      },
      "cell_type": "code",
      "source": [
        "eigvecs"
      ],
      "execution_count": 29,
      "outputs": [
        {
          "output_type": "execute_result",
          "data": {
            "text/plain": [
              "matrix([[ 0.81649658, -0.57735027,  0.29329423,  0.        ,  0.        ,\n",
              "          0.        ],\n",
              "        [-0.40824829, -0.57735027, -0.80655913,  0.        ,  0.        ,\n",
              "          0.        ],\n",
              "        [-0.40824829, -0.57735027,  0.5132649 ,  0.        ,  0.        ,\n",
              "          0.        ],\n",
              "        [ 0.        ,  0.        ,  0.        ,  0.81649658, -0.57735027,\n",
              "          0.29329423],\n",
              "        [ 0.        ,  0.        ,  0.        , -0.40824829, -0.57735027,\n",
              "         -0.80655913],\n",
              "        [ 0.        ,  0.        ,  0.        , -0.40824829, -0.57735027,\n",
              "          0.5132649 ]])"
            ]
          },
          "metadata": {
            "tags": []
          },
          "execution_count": 29
        }
      ]
    },
    {
      "metadata": {
        "id": "ziofthdg8szH",
        "colab_type": "code",
        "colab": {
          "base_uri": "https://localhost:8080/",
          "height": 50
        },
        "outputId": "b534dc93-11a6-4bd1-bb66-8c485ceeeaf3"
      },
      "cell_type": "code",
      "source": [
        "eigvals"
      ],
      "execution_count": 30,
      "outputs": [
        {
          "output_type": "execute_result",
          "data": {
            "text/plain": [
              "array([ 1.50000000e+00, -1.11022302e-16,  1.50000000e+00,  1.50000000e+00,\n",
              "       -1.11022302e-16,  1.50000000e+00])"
            ]
          },
          "metadata": {
            "tags": []
          },
          "execution_count": 30
        }
      ]
    },
    {
      "metadata": {
        "id": "Aus3ZkYf8tkN",
        "colab_type": "code",
        "colab": {}
      },
      "cell_type": "code",
      "source": [
        ""
      ],
      "execution_count": 0,
      "outputs": []
    }
  ]
}