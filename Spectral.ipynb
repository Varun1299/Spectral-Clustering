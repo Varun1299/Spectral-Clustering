{
 "cells": [
  {
   "cell_type": "markdown",
   "metadata": {
    "colab_type": "text",
    "id": "view-in-github"
   },
   "source": [
    "<a href=\"https://colab.research.google.com/github/Varun1299/Spectral-Clustering/blob/master/Spectral.ipynb\" target=\"_parent\"><img src=\"https://colab.research.google.com/assets/colab-badge.svg\" alt=\"Open In Colab\"/></a>"
   ]
  },
  {
   "cell_type": "code",
   "execution_count": 2,
   "metadata": {
    "colab": {},
    "colab_type": "code",
    "id": "4VdVJ_sW1RBK"
   },
   "outputs": [],
   "source": [
    "import networkx as nx\n",
    "import numpy as np\n",
    "from sklearn.cluster import KMeans\n",
    "import matplotlib.pyplot as plt\n",
    "import math"
   ]
  },
  {
   "cell_type": "code",
   "execution_count": 3,
   "metadata": {
    "colab": {},
    "colab_type": "code",
    "id": "TwCkgRTd1lLa"
   },
   "outputs": [],
   "source": [
    "G=nx.Graph()"
   ]
  },
  {
   "cell_type": "code",
   "execution_count": 4,
   "metadata": {
    "colab": {},
    "colab_type": "code",
    "id": "9_mVMBDR2Ene"
   },
   "outputs": [],
   "source": [
    "G.add_edge(1,2, weight = 1)\n",
    "G.add_edge(1,3, weight = 1)\n",
    "G.add_edge(2,3, weight = 1)\n",
    "G.add_edge(2,4, weight = 0.2)\n",
    "G.add_edge(4,5, weight = 1)\n",
    "G.add_edge(5,6, weight = 1)\n",
    "G.add_edge(4,6, weight = 1)"
   ]
  },
  {
   "cell_type": "code",
   "execution_count": 59,
   "metadata": {
    "colab": {
     "base_uri": "https://localhost:8080/",
     "height": 34
    },
    "colab_type": "code",
    "id": "WxeVtnjg2Raq",
    "outputId": "d9aa390f-f3c9-4dfa-f2bd-7ba51647519c"
   },
   "outputs": [
    {
     "data": {
      "text/plain": [
       "NodeView((1, 2, 3, 4, 5, 6))"
      ]
     },
     "execution_count": 59,
     "metadata": {
      "tags": []
     },
     "output_type": "execute_result"
    }
   ],
   "source": [
    "G.nodes"
   ]
  },
  {
   "cell_type": "code",
   "execution_count": 5,
   "metadata": {
    "colab": {},
    "colab_type": "code",
    "id": "2jx5r4BX2UxI"
   },
   "outputs": [],
   "source": [
    "A = nx.adjacency_matrix(G)"
   ]
  },
  {
   "cell_type": "code",
   "execution_count": 61,
   "metadata": {
    "colab": {
     "base_uri": "https://localhost:8080/",
     "height": 218
    },
    "colab_type": "code",
    "id": "xkBzHKNM2ZMr",
    "outputId": "3e4718e0-4680-441b-bcc5-f9928cc18e73"
   },
   "outputs": [
    {
     "name": "stdout",
     "output_type": "stream",
     "text": [
      "[[0.  1.  1.  0.  0.  0. ]\n",
      " [1.  0.  1.  0.2 0.  0. ]\n",
      " [1.  1.  0.  0.  0.  0. ]\n",
      " [0.  0.2 0.  0.  1.  1. ]\n",
      " [0.  0.  0.  1.  0.  1. ]\n",
      " [0.  0.  0.  1.  1.  0. ]]\n",
      "[[ 0.  -1.  -1.   0.   0.   0. ]\n",
      " [-1.   0.  -1.  -0.2  0.   0. ]\n",
      " [-1.  -1.   0.   0.   0.   0. ]\n",
      " [ 0.  -0.2  0.   0.  -1.  -1. ]\n",
      " [ 0.   0.   0.  -1.   0.  -1. ]\n",
      " [ 0.   0.   0.  -1.  -1.   0. ]]\n"
     ]
    }
   ],
   "source": [
    "print(A.todense())\n",
    "print(-1*A.todense())"
   ]
  },
  {
   "cell_type": "code",
   "execution_count": 6,
   "metadata": {
    "colab": {},
    "colab_type": "code",
    "id": "zEAPPRhE2dY0"
   },
   "outputs": [],
   "source": [
    "D = np.zeros((len(G.nodes), len(G.nodes)))  "
   ]
  },
  {
   "cell_type": "code",
   "execution_count": 7,
   "metadata": {
    "colab": {
     "base_uri": "https://localhost:8080/",
     "height": 134
    },
    "colab_type": "code",
    "id": "v2I_CTr73I3B",
    "outputId": "93b42b96-aaf2-4f0c-cd28-c7d3608f1f12"
   },
   "outputs": [
    {
     "name": "stdout",
     "output_type": "stream",
     "text": [
      "[[2. 0. 0. 0. 0. 0.]\n",
      " [0. 3. 0. 0. 0. 0.]\n",
      " [0. 0. 2. 0. 0. 0.]\n",
      " [0. 0. 0. 3. 0. 0.]\n",
      " [0. 0. 0. 0. 2. 0.]\n",
      " [0. 0. 0. 0. 0. 2.]]\n",
      "2\n"
     ]
    }
   ],
   "source": [
    "D = np.zeros((len(G.nodes), len(G.nodes)))  \n",
    "indexer = 0\n",
    "for node in G.nodes:\n",
    "  D[indexer][indexer] = G.degree(node)\n",
    "  indexer += 1\n",
    "print(D)\n",
    "print(G.degree(6))"
   ]
  },
  {
   "cell_type": "code",
   "execution_count": 8,
   "metadata": {
    "colab": {},
    "colab_type": "code",
    "id": "vCiy9K8z31cJ"
   },
   "outputs": [],
   "source": [
    "L = D - A"
   ]
  },
  {
   "cell_type": "code",
   "execution_count": 65,
   "metadata": {
    "colab": {
     "base_uri": "https://localhost:8080/",
     "height": 118
    },
    "colab_type": "code",
    "id": "2BcmbJ7a85iH",
    "outputId": "119fd737-c058-49ad-b0a7-d6a528266644"
   },
   "outputs": [
    {
     "data": {
      "text/plain": [
       "matrix([[ 2. , -1. , -1. ,  0. ,  0. ,  0. ],\n",
       "        [-1. ,  3. , -1. , -0.2,  0. ,  0. ],\n",
       "        [-1. , -1. ,  2. ,  0. ,  0. ,  0. ],\n",
       "        [ 0. , -0.2,  0. ,  3. , -1. , -1. ],\n",
       "        [ 0. ,  0. ,  0. , -1. ,  2. , -1. ],\n",
       "        [ 0. ,  0. ,  0. , -1. , -1. ,  2. ]])"
      ]
     },
     "execution_count": 65,
     "metadata": {
      "tags": []
     },
     "output_type": "execute_result"
    }
   ],
   "source": [
    "L"
   ]
  },
  {
   "cell_type": "code",
   "execution_count": 9,
   "metadata": {
    "colab": {},
    "colab_type": "code",
    "id": "wgtmjIF868-g"
   },
   "outputs": [],
   "source": [
    "for rowidx in range(L.shape[0]):\n",
    "  L[rowidx] = L[rowidx]/float(L[rowidx, rowidx])"
   ]
  },
  {
   "cell_type": "code",
   "execution_count": 67,
   "metadata": {
    "colab": {
     "base_uri": "https://localhost:8080/",
     "height": 218
    },
    "colab_type": "code",
    "id": "VTsuaLRh7ivj",
    "outputId": "27854f48-4baf-4b60-a5e1-3aec8a661fc4"
   },
   "outputs": [
    {
     "data": {
      "text/plain": [
       "matrix([[ 1.        , -0.5       , -0.5       ,  0.        ,  0.        ,\n",
       "          0.        ],\n",
       "        [-0.33333333,  1.        , -0.33333333, -0.06666667,  0.        ,\n",
       "          0.        ],\n",
       "        [-0.5       , -0.5       ,  1.        ,  0.        ,  0.        ,\n",
       "          0.        ],\n",
       "        [ 0.        , -0.06666667,  0.        ,  1.        , -0.33333333,\n",
       "         -0.33333333],\n",
       "        [ 0.        ,  0.        ,  0.        , -0.5       ,  1.        ,\n",
       "         -0.5       ],\n",
       "        [ 0.        ,  0.        ,  0.        , -0.5       , -0.5       ,\n",
       "          1.        ]])"
      ]
     },
     "execution_count": 67,
     "metadata": {
      "tags": []
     },
     "output_type": "execute_result"
    }
   ],
   "source": [
    "L"
   ]
  },
  {
   "cell_type": "code",
   "execution_count": 68,
   "metadata": {
    "colab": {
     "base_uri": "https://localhost:8080/",
     "height": 34
    },
    "colab_type": "code",
    "id": "nTp_L_8175Bz",
    "outputId": "c8365354-ea12-408a-ab09-0545ac0e558e"
   },
   "outputs": [
    {
     "data": {
      "text/plain": [
       "1.0"
      ]
     },
     "execution_count": 68,
     "metadata": {
      "tags": []
     },
     "output_type": "execute_result"
    }
   ],
   "source": [
    "L.item((1,1))"
   ]
  },
  {
   "cell_type": "code",
   "execution_count": 10,
   "metadata": {
    "colab": {},
    "colab_type": "code",
    "id": "JMf1JU6y77V6"
   },
   "outputs": [],
   "source": [
    "eigvals,eigvecs = np.linalg.eig(L)"
   ]
  },
  {
   "cell_type": "code",
   "execution_count": 70,
   "metadata": {
    "colab": {
     "base_uri": "https://localhost:8080/",
     "height": 218
    },
    "colab_type": "code",
    "id": "j5EXrrV_8qxH",
    "outputId": "b7177e66-979d-4880-8be1-1db8a1e99e5c"
   },
   "outputs": [
    {
     "data": {
      "text/plain": [
       "matrix([[-4.35194140e-01, -4.45629685e-01, -7.07106781e-01,\n",
       "          3.23498320e-01,  3.03356177e-01, -1.11459175e-03],\n",
       "        [-3.48155312e-01, -3.20668626e-01, -4.49559703e-15,\n",
       "         -5.39163866e-01, -5.62094351e-01,  1.83111978e-16],\n",
       "        [-4.35194140e-01, -4.45629685e-01,  7.07106781e-01,\n",
       "          3.23498320e-01,  3.03356177e-01,  1.11459175e-03],\n",
       "        [-3.48155312e-01,  3.20668626e-01, -2.06055195e-16,\n",
       "         -5.39163866e-01,  5.62094351e-01, -2.66912227e-16],\n",
       "        [-4.35194140e-01,  4.45629685e-01,  5.90229285e-17,\n",
       "          3.23498320e-01, -3.03356177e-01, -7.07105903e-01],\n",
       "        [-4.35194140e-01,  4.45629685e-01,  3.12673328e-17,\n",
       "          3.23498320e-01, -3.03356177e-01,  7.07105903e-01]])"
      ]
     },
     "execution_count": 70,
     "metadata": {
      "tags": []
     },
     "output_type": "execute_result"
    }
   ],
   "source": [
    "\n",
    "eigvecs"
   ]
  },
  {
   "cell_type": "code",
   "execution_count": 71,
   "metadata": {
    "colab": {
     "base_uri": "https://localhost:8080/",
     "height": 50
    },
    "colab_type": "code",
    "id": "ziofthdg8szH",
    "outputId": "def5e800-c97a-4e5c-ed65-f68e4a0983ba"
   },
   "outputs": [
    {
     "data": {
      "text/plain": [
       "array([0.1       , 0.14020729, 1.5       , 1.33333333, 1.42645938,\n",
       "       1.5       ])"
      ]
     },
     "execution_count": 71,
     "metadata": {
      "tags": []
     },
     "output_type": "execute_result"
    }
   ],
   "source": [
    "eigvals"
   ]
  },
  {
   "cell_type": "code",
   "execution_count": 11,
   "metadata": {
    "colab": {},
    "colab_type": "code",
    "id": "Aus3ZkYf8tkN"
   },
   "outputs": [],
   "source": [
    "num_clusters = 2"
   ]
  },
  {
   "cell_type": "code",
   "execution_count": 12,
   "metadata": {
    "colab": {},
    "colab_type": "code",
    "id": "QKErgnV6H405"
   },
   "outputs": [],
   "source": [
    "selected_eigvecs = []\n",
    "while len(selected_eigvecs) < num_clusters:\n",
    "  idx = np.where(eigvals == min(eigvals))\n",
    "  for i in idx[0]:\n",
    "    selected_eigvecs.append(np.array(eigvecs[i])[0])\n",
    "    if len(selected_eigvecs) == num_clusters:\n",
    "      break\n",
    "selected_eigvecs = np.array(selected_eigvecs)"
   ]
  },
  {
   "cell_type": "code",
   "execution_count": 0,
   "metadata": {
    "colab": {},
    "colab_type": "code",
    "id": "uUJqqPb-FLrD"
   },
   "outputs": [],
   "source": []
  },
  {
   "cell_type": "code",
   "execution_count": 13,
   "metadata": {
    "colab": {
     "base_uri": "https://localhost:8080/",
     "height": 118
    },
    "colab_type": "code",
    "id": "T_83vsD7FLib",
    "outputId": "39b58c69-fdee-451a-b003-3d8fd7e38fc1"
   },
   "outputs": [
    {
     "data": {
      "text/plain": [
       "[array([-0.43519414, -0.43519414]),\n",
       " array([-0.44562968, -0.44562968]),\n",
       " array([-0.70710678, -0.70710678]),\n",
       " array([0.32349832, 0.32349832]),\n",
       " array([0.30335618, 0.30335618]),\n",
       " array([-0.00111459, -0.00111459])]"
      ]
     },
     "execution_count": 13,
     "metadata": {},
     "output_type": "execute_result"
    }
   ],
   "source": [
    "nodes = []\n",
    "for i in range(len(G.nodes)):\n",
    "  nodes.append(selected_eigvecs[:, i])\n",
    "nodes"
   ]
  },
  {
   "cell_type": "code",
   "execution_count": 14,
   "metadata": {
    "colab": {},
    "colab_type": "code",
    "id": "tsLzhpU_BdGJ"
   },
   "outputs": [],
   "source": [
    "kmeans = KMeans(n_clusters=2, init = 'k-means++').fit(nodes)"
   ]
  },
  {
   "cell_type": "code",
   "execution_count": 76,
   "metadata": {
    "colab": {
     "base_uri": "https://localhost:8080/",
     "height": 34
    },
    "colab_type": "code",
    "id": "z0mPyU7dCRG3",
    "outputId": "d8583564-8d4a-4b41-97dd-10fe385293ef"
   },
   "outputs": [
    {
     "data": {
      "text/plain": [
       "array([1, 1, 1, 0, 0, 0], dtype=int32)"
      ]
     },
     "execution_count": 76,
     "metadata": {
      "tags": []
     },
     "output_type": "execute_result"
    }
   ],
   "source": [
    "kmeans.labels_"
   ]
  },
  {
   "cell_type": "code",
   "execution_count": 15,
   "metadata": {
    "colab": {},
    "colab_type": "code",
    "id": "k2uyL81LERVg"
   },
   "outputs": [],
   "source": [
    "colors = ['xkcd:sky blue', 'xkcd:light purple', 'xkcd:salmon', 'xkcd:beige', 'xkcd:pale green', 'xkcd:grey']"
   ]
  },
  {
   "cell_type": "code",
   "execution_count": 23,
   "metadata": {
    "colab": {
     "base_uri": "https://localhost:8080/",
     "height": 494
    },
    "colab_type": "code",
    "id": "sbVwaDtNDeuc",
    "outputId": "e5fa1fef-ebb8-43cb-d4b8-7502549ae8df"
   },
   "outputs": [
    {
     "data": {
      "image/png": "[encoded data removed]",
      "text/plain": [
       "<matplotlib.figure.Figure at 0x7fdc414f0080>"
      ]
     },
     "metadata": {},
     "output_type": "display_data"
    }
   ],
   "source": [
    "nx.draw(G, pos=nx.spring_layout(G), with_labels = True, node_color = list(map(lambda x: colors[x%len(colors)],kmeans.labels_)))\n",
    "plt.show()"
   ]
  },
  {
   "cell_type": "code",
   "execution_count": 18,
   "metadata": {},
   "outputs": [
    {
     "name": "stdout",
     "output_type": "stream",
     "text": [
      "[1 1 1 0 0 0]\n"
     ]
    }
   ],
   "source": [
    "print(kmeans.labels_)"
   ]
  },
  {
   "cell_type": "code",
   "execution_count": 0,
   "metadata": {
    "colab": {},
    "colab_type": "code",
    "id": "KJPyNCLhDtCd"
   },
   "outputs": [],
   "source": [
    "def _readData(inpFile, inpType = 'graph'):\n",
    "  \"\"\"Reads data from input file and interprets the data as per the input type.\n",
    "     It constructs a graph using networkX from the data and returns it.\"\"\"\n",
    "  if inpType == 'graph':\n",
    "    G = nx.graph()\n",
    "    file = open(inpFile, 'r')\n",
    "    while True:\n",
    "      line = file.readline()\n",
    "      if not line:\n",
    "        break\n",
    "      info = line.split(',')\n",
    "      if len(info) == 3:\n",
    "        G.add_edge(info[0],info[1], weight = float(info[2][:-1]))\n",
    "      else:\n",
    "        G.add_edge(info[0],info[1])\n",
    "    file.close()\n",
    "    return G\n",
    "  elif inpType == 'points':\n",
    "    points = []\n",
    "    file = open(inpFile, 'r')\n",
    "    while True:\n",
    "      line = file.readline()\n",
    "      if not line:\n",
    "        break\n",
    "      points.append(np.array(list(map(float, line.strip().split(',')))))\n",
    "    file.close()\n",
    "    G = nx.graph()\n",
    "    for i in range(len(points)):\n",
    "      for j in range(i+1, len(points)):\n",
    "        dist = np.linalg.norm(points[i], points[j])\n",
    "        sim = math.exp(-1*dist)\n",
    "        G.add_edge(i,j, weight = sim)\n",
    "    return G\n",
    "  else:\n",
    "    raise Exception(\"Specified input type not supported!\")"
   ]
  },
  {
   "cell_type": "code",
   "execution_count": 0,
   "metadata": {
    "colab": {},
    "colab_type": "code",
    "id": "k7W6OuL5N9ln"
   },
   "outputs": [],
   "source": [
    "def _constructNormalizedLaplacian(G):\n",
    "  L = -1*nx.adjacency_matrix(G)\n",
    "  nodes = list(G.nodes())\n",
    "  for i in range(len(nodes)):\n",
    "    L[i] = G.degree(nodes[i])\n",
    "  for rowidx in range(L.shape[0]):\n",
    "    L[rowidx] = L[rowidx]/float(L[rowidx, rowidx])\n",
    "  return L"
   ]
  },
  {
   "cell_type": "code",
   "execution_count": 0,
   "metadata": {
    "colab": {},
    "colab_type": "code",
    "id": "ECWgjqmvn7nn"
   },
   "outputs": [],
   "source": [
    "def _selectEigVecs(eigvals, eigvecs, num_clusters):\n",
    "  selected_eigvecs = []\n",
    "  while len(selected_eigvecs) < num_clusters:\n",
    "    idx = np.where(eigvals == min(eigvals))\n",
    "    for i in idx[0]:\n",
    "      selected_eigvecs.append(np.array(eigvecs[i])[0])\n",
    "      if len(selected_eigvecs) == num_clusters:\n",
    "        break\n",
    "  selected_eigvecs = np.array(selected_eigvecs)\n",
    "  return selected_eigvecs"
   ]
  },
  {
   "cell_type": "code",
   "execution_count": 0,
   "metadata": {
    "colab": {},
    "colab_type": "code",
    "id": "5r-iJJrmpYZF"
   },
   "outputs": [],
   "source": [
    "def _makeNodes(selectedEigVecs, num_nodes):\n",
    "  nodes = []\n",
    "  for i in range(num_nodes):\n",
    "    nodes.append(selectedEigVecs[:,i])"
   ]
  },
  {
   "cell_type": "code",
   "execution_count": 0,
   "metadata": {
    "colab": {},
    "colab_type": "code",
    "id": "8mwsixkiM_d2"
   },
   "outputs": [],
   "source": [
    "def spectralClustering(inpFile, inpType, num_clusters = 2):\n",
    "  G = _readData(inpFile, inpType)\n",
    "  L = _constructNormalizedLaplacian(G)\n",
    "  eigvals,eigvecs = np.linalg.eig(L)\n",
    "  selectedEigVecs = _selectEigVecs(eigvals, eigvecs, num_clusters)\n",
    "  nodes = _makeNodes(selectedEigVecs, len(G.nodes))\n",
    "  kmeans = KMeans(n_clusters = num_clusters, init = 'k-means++').fit(nodes)\n",
    "  print(kmeans.labels_)"
   ]
  },
  {
   "cell_type": "code",
   "execution_count": 83,
   "metadata": {
    "colab": {
     "base_uri": "https://localhost:8080/",
     "height": 34
    },
    "colab_type": "code",
    "id": "Sneq63jgNLmJ",
    "outputId": "f10d6772-4774-4ad4-ed75-f198f53df195"
   },
   "outputs": [
    {
     "name": "stdout",
     "output_type": "stream",
     "text": [
      "['1', '2', '3']\n"
     ]
    }
   ],
   "source": [
    "s = \"1,2,3\\n\"\n",
    "s = s.strip().split(',')\n",
    "# l = s.split(',')\n",
    "print(s)"
   ]
  },
  {
   "cell_type": "code",
   "execution_count": 84,
   "metadata": {
    "colab": {
     "base_uri": "https://localhost:8080/",
     "height": 34
    },
    "colab_type": "code",
    "id": "2w7GV9OJNM6V",
    "outputId": "98a6c79a-3035-4030-ac62-a59f90f84861"
   },
   "outputs": [
    {
     "data": {
      "text/plain": [
       "[1, 2, 3, 4, 5, 6]"
      ]
     },
     "execution_count": 84,
     "metadata": {
      "tags": []
     },
     "output_type": "execute_result"
    }
   ],
   "source": [
    "list(G.nodes())"
   ]
  },
  {
   "cell_type": "code",
   "execution_count": 0,
   "metadata": {
    "colab": {},
    "colab_type": "code",
    "id": "c2go3Y4dOZZL"
   },
   "outputs": [],
   "source": [
    "l = np.array([[1,2,3], [1,2,3]])"
   ]
  },
  {
   "cell_type": "code",
   "execution_count": 86,
   "metadata": {
    "colab": {
     "base_uri": "https://localhost:8080/",
     "height": 50
    },
    "colab_type": "code",
    "id": "sfQeYGmlPjBg",
    "outputId": "974cac72-4347-40a4-bfea-d7a7163a056e"
   },
   "outputs": [
    {
     "name": "stdout",
     "output_type": "stream",
     "text": [
      "[[1 2 3]\n",
      " [1 2 3]]\n"
     ]
    }
   ],
   "source": [
    "print(l)"
   ]
  },
  {
   "cell_type": "code",
   "execution_count": 0,
   "metadata": {
    "colab": {},
    "colab_type": "code",
    "id": "Clo4RC6NPj2_"
   },
   "outputs": [],
   "source": []
  },
  {
   "cell_type": "code",
   "execution_count": 87,
   "metadata": {
    "colab": {
     "base_uri": "https://localhost:8080/",
     "height": 50
    },
    "colab_type": "code",
    "id": "4sYmcrDuPpwi",
    "outputId": "a8b5f292-24f2-4691-ab07-05e66b6a8341"
   },
   "outputs": [
    {
     "name": "stdout",
     "output_type": "stream",
     "text": [
      "[[1 2 3]\n",
      " [1 2 3]]\n"
     ]
    }
   ],
   "source": [
    "print(l)"
   ]
  },
  {
   "cell_type": "code",
   "execution_count": 0,
   "metadata": {
    "colab": {},
    "colab_type": "code",
    "id": "9VYo2x5oP0CW"
   },
   "outputs": [],
   "source": []
  }
 ],
 "metadata": {
  "colab": {
   "collapsed_sections": [],
   "include_colab_link": true,
   "name": "Spectral.ipynb",
   "provenance": [],
   "version": "0.3.2"
  },
  "kernelspec": {
   "display_name": "Python 3",
   "language": "python",
   "name": "python3"
  },
  "language_info": {
   "codemirror_mode": {
    "name": "ipython",
    "version": 3
   },
   "file_extension": ".py",
   "mimetype": "text/x-python",
   "name": "python",
   "nbconvert_exporter": "python",
   "pygments_lexer": "ipython3",
   "version": "3.5.2"
  }
 },
 "nbformat": 4,
 "nbformat_minor": 1
}
