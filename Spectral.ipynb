{
  "nbformat": 4,
  "nbformat_minor": 0,
  "metadata": {
    "colab": {
      "name": "Spectral.ipynb",
      "version": "0.3.2",
      "provenance": [],
      "collapsed_sections": [],
      "include_colab_link": true
    },
    "kernelspec": {
      "name": "python3",
      "display_name": "Python 3"
    }
  },
  "cells": [
    {
      "cell_type": "markdown",
      "metadata": {
        "id": "view-in-github",
        "colab_type": "text"
      },
      "source": [
        "<a href=\"https://colab.research.google.com/github/Varun1299/Spectral-Clustering/blob/master/Spectral.ipynb\" target=\"_parent\"><img src=\"https://colab.research.google.com/assets/colab-badge.svg\" alt=\"Open In Colab\"/></a>"
      ]
    },
    {
      "metadata": {
        "id": "4VdVJ_sW1RBK",
        "colab_type": "code",
        "colab": {}
      },
      "cell_type": "code",
      "source": [
        "import networkx as nx\n",
        "import numpy as np\n",
        "from sklearn.cluster import KMeans\n",
        "import matplotlib.pyplot as plt\n",
        "import math"
      ],
      "execution_count": 0,
      "outputs": []
    },
    {
      "metadata": {
        "id": "TwCkgRTd1lLa",
        "colab_type": "code",
        "colab": {}
      },
      "cell_type": "code",
      "source": [
        "G=nx.Graph()"
      ],
      "execution_count": 0,
      "outputs": []
    },
    {
      "metadata": {
        "id": "9_mVMBDR2Ene",
        "colab_type": "code",
        "colab": {}
      },
      "cell_type": "code",
      "source": [
        "G.add_edge(1,2, weight = 1)\n",
        "G.add_edge(1,3, weight = 1)\n",
        "G.add_edge(2,3, weight = 1)\n",
        "G.add_edge(2,4, weight = 0.2)\n",
        "G.add_edge(4,5, weight = 1)\n",
        "G.add_edge(5,6, weight = 1)\n",
        "G.add_edge(4,6, weight = 1)"
      ],
      "execution_count": 0,
      "outputs": []
    },
    {
      "metadata": {
        "id": "WxeVtnjg2Raq",
        "colab_type": "code",
        "outputId": "696587ad-ae9e-4557-b1ea-603a10f96b21",
        "colab": {
          "base_uri": "https://localhost:8080/",
          "height": 34
        }
      },
      "cell_type": "code",
      "source": [
        "G.nodes"
      ],
      "execution_count": 30,
      "outputs": [
        {
          "output_type": "execute_result",
          "data": {
            "text/plain": [
              "NodeView((1, 2, 3, 4, 5, 6))"
            ]
          },
          "metadata": {
            "tags": []
          },
          "execution_count": 30
        }
      ]
    },
    {
      "metadata": {
        "id": "2jx5r4BX2UxI",
        "colab_type": "code",
        "colab": {}
      },
      "cell_type": "code",
      "source": [
        "A = nx.adjacency_matrix(G)"
      ],
      "execution_count": 0,
      "outputs": []
    },
    {
      "metadata": {
        "id": "xkBzHKNM2ZMr",
        "colab_type": "code",
        "outputId": "9b61b5ae-a6d0-4652-c0b6-7d1c7be60bed",
        "colab": {
          "base_uri": "https://localhost:8080/",
          "height": 118
        }
      },
      "cell_type": "code",
      "source": [
        "print(A.todense())"
      ],
      "execution_count": 32,
      "outputs": [
        {
          "output_type": "stream",
          "text": [
            "[[0.  1.  1.  0.  0.  0. ]\n",
            " [1.  0.  1.  0.2 0.  0. ]\n",
            " [1.  1.  0.  0.  0.  0. ]\n",
            " [0.  0.2 0.  0.  1.  1. ]\n",
            " [0.  0.  0.  1.  0.  1. ]\n",
            " [0.  0.  0.  1.  1.  0. ]]\n"
          ],
          "name": "stdout"
        }
      ]
    },
    {
      "metadata": {
        "id": "zEAPPRhE2dY0",
        "colab_type": "code",
        "colab": {}
      },
      "cell_type": "code",
      "source": [
        "D = np.zeros((len(G.nodes), len(G.nodes)))  "
      ],
      "execution_count": 0,
      "outputs": []
    },
    {
      "metadata": {
        "id": "v2I_CTr73I3B",
        "colab_type": "code",
        "outputId": "1abddf9c-4e5c-4981-b15b-585df86d56c8",
        "colab": {
          "base_uri": "https://localhost:8080/",
          "height": 134
        }
      },
      "cell_type": "code",
      "source": [
        "indexer = 0\n",
        "for node in G.nodes:\n",
        "  D[indexer][indexer] = G.degree(node)\n",
        "  indexer += 1\n",
        "print(D)\n",
        "print(G.degree(6))"
      ],
      "execution_count": 34,
      "outputs": [
        {
          "output_type": "stream",
          "text": [
            "[[2. 0. 0. 0. 0. 0.]\n",
            " [0. 3. 0. 0. 0. 0.]\n",
            " [0. 0. 2. 0. 0. 0.]\n",
            " [0. 0. 0. 3. 0. 0.]\n",
            " [0. 0. 0. 0. 2. 0.]\n",
            " [0. 0. 0. 0. 0. 2.]]\n",
            "2\n"
          ],
          "name": "stdout"
        }
      ]
    },
    {
      "metadata": {
        "id": "vCiy9K8z31cJ",
        "colab_type": "code",
        "colab": {}
      },
      "cell_type": "code",
      "source": [
        "L = D - A"
      ],
      "execution_count": 0,
      "outputs": []
    },
    {
      "metadata": {
        "id": "2BcmbJ7a85iH",
        "colab_type": "code",
        "outputId": "cd37fda7-270e-4a44-989e-b5b66c53379c",
        "colab": {
          "base_uri": "https://localhost:8080/",
          "height": 118
        }
      },
      "cell_type": "code",
      "source": [
        "L"
      ],
      "execution_count": 36,
      "outputs": [
        {
          "output_type": "execute_result",
          "data": {
            "text/plain": [
              "matrix([[ 2. , -1. , -1. ,  0. ,  0. ,  0. ],\n",
              "        [-1. ,  3. , -1. , -0.2,  0. ,  0. ],\n",
              "        [-1. , -1. ,  2. ,  0. ,  0. ,  0. ],\n",
              "        [ 0. , -0.2,  0. ,  3. , -1. , -1. ],\n",
              "        [ 0. ,  0. ,  0. , -1. ,  2. , -1. ],\n",
              "        [ 0. ,  0. ,  0. , -1. , -1. ,  2. ]])"
            ]
          },
          "metadata": {
            "tags": []
          },
          "execution_count": 36
        }
      ]
    },
    {
      "metadata": {
        "id": "wgtmjIF868-g",
        "colab_type": "code",
        "colab": {}
      },
      "cell_type": "code",
      "source": [
        "for rowidx in range(L.shape[0]):\n",
        "  L[rowidx] = L[rowidx]/float(L[rowidx, rowidx])"
      ],
      "execution_count": 0,
      "outputs": []
    },
    {
      "metadata": {
        "id": "VTsuaLRh7ivj",
        "colab_type": "code",
        "outputId": "6dd53f34-cf11-4bf5-ecc5-c501ae90d78b",
        "colab": {
          "base_uri": "https://localhost:8080/",
          "height": 218
        }
      },
      "cell_type": "code",
      "source": [
        "L"
      ],
      "execution_count": 38,
      "outputs": [
        {
          "output_type": "execute_result",
          "data": {
            "text/plain": [
              "matrix([[ 1.        , -0.5       , -0.5       ,  0.        ,  0.        ,\n",
              "          0.        ],\n",
              "        [-0.33333333,  1.        , -0.33333333, -0.06666667,  0.        ,\n",
              "          0.        ],\n",
              "        [-0.5       , -0.5       ,  1.        ,  0.        ,  0.        ,\n",
              "          0.        ],\n",
              "        [ 0.        , -0.06666667,  0.        ,  1.        , -0.33333333,\n",
              "         -0.33333333],\n",
              "        [ 0.        ,  0.        ,  0.        , -0.5       ,  1.        ,\n",
              "         -0.5       ],\n",
              "        [ 0.        ,  0.        ,  0.        , -0.5       , -0.5       ,\n",
              "          1.        ]])"
            ]
          },
          "metadata": {
            "tags": []
          },
          "execution_count": 38
        }
      ]
    },
    {
      "metadata": {
        "id": "nTp_L_8175Bz",
        "colab_type": "code",
        "outputId": "23499457-cf90-4c06-b6ac-9cb3e8b962f0",
        "colab": {
          "base_uri": "https://localhost:8080/",
          "height": 34
        }
      },
      "cell_type": "code",
      "source": [
        "L.item((1,1))"
      ],
      "execution_count": 39,
      "outputs": [
        {
          "output_type": "execute_result",
          "data": {
            "text/plain": [
              "1.0"
            ]
          },
          "metadata": {
            "tags": []
          },
          "execution_count": 39
        }
      ]
    },
    {
      "metadata": {
        "id": "JMf1JU6y77V6",
        "colab_type": "code",
        "colab": {}
      },
      "cell_type": "code",
      "source": [
        "eigvals,eigvecs = np.linalg.eig(L)"
      ],
      "execution_count": 0,
      "outputs": []
    },
    {
      "metadata": {
        "id": "j5EXrrV_8qxH",
        "colab_type": "code",
        "outputId": "3da0da36-36e4-49ca-c939-f8d5f0223a3c",
        "colab": {
          "base_uri": "https://localhost:8080/",
          "height": 218
        }
      },
      "cell_type": "code",
      "source": [
        "\n",
        "eigvecs"
      ],
      "execution_count": 41,
      "outputs": [
        {
          "output_type": "execute_result",
          "data": {
            "text/plain": [
              "matrix([[-4.35194140e-01, -4.45629685e-01, -7.07106781e-01,\n",
              "          3.23498320e-01,  3.03356177e-01, -1.11459175e-03],\n",
              "        [-3.48155312e-01, -3.20668626e-01, -4.49559703e-15,\n",
              "         -5.39163866e-01, -5.62094351e-01,  1.83111978e-16],\n",
              "        [-4.35194140e-01, -4.45629685e-01,  7.07106781e-01,\n",
              "          3.23498320e-01,  3.03356177e-01,  1.11459175e-03],\n",
              "        [-3.48155312e-01,  3.20668626e-01, -2.06055195e-16,\n",
              "         -5.39163866e-01,  5.62094351e-01, -2.66912227e-16],\n",
              "        [-4.35194140e-01,  4.45629685e-01,  5.90229285e-17,\n",
              "          3.23498320e-01, -3.03356177e-01, -7.07105903e-01],\n",
              "        [-4.35194140e-01,  4.45629685e-01,  3.12673328e-17,\n",
              "          3.23498320e-01, -3.03356177e-01,  7.07105903e-01]])"
            ]
          },
          "metadata": {
            "tags": []
          },
          "execution_count": 41
        }
      ]
    },
    {
      "metadata": {
        "id": "ziofthdg8szH",
        "colab_type": "code",
        "outputId": "90f142be-9ed2-4f86-9034-9ff0f2135982",
        "colab": {
          "base_uri": "https://localhost:8080/",
          "height": 50
        }
      },
      "cell_type": "code",
      "source": [
        "eigvals"
      ],
      "execution_count": 42,
      "outputs": [
        {
          "output_type": "execute_result",
          "data": {
            "text/plain": [
              "array([0.1       , 0.14020729, 1.5       , 1.33333333, 1.42645938,\n",
              "       1.5       ])"
            ]
          },
          "metadata": {
            "tags": []
          },
          "execution_count": 42
        }
      ]
    },
    {
      "metadata": {
        "id": "Aus3ZkYf8tkN",
        "colab_type": "code",
        "colab": {}
      },
      "cell_type": "code",
      "source": [
        "num_clusters = 2"
      ],
      "execution_count": 0,
      "outputs": []
    },
    {
      "metadata": {
        "id": "QKErgnV6H405",
        "colab_type": "code",
        "colab": {}
      },
      "cell_type": "code",
      "source": [
        "selected_eigvecs = []\n",
        "while len(selected_eigvecs) < num_clusters:\n",
        "  idx = np.where(eigvals == min(eigvals))\n",
        "  for i in idx[0]:\n",
        "    selected_eigvecs.append(np.array(eigvecs[i])[0])\n",
        "    if len(selected_eigvecs) == num_clusters:\n",
        "      break\n",
        "selected_eigvecs = np.array(selected_eigvecs)"
      ],
      "execution_count": 0,
      "outputs": []
    },
    {
      "metadata": {
        "id": "uUJqqPb-FLrD",
        "colab_type": "code",
        "colab": {}
      },
      "cell_type": "code",
      "source": [
        ""
      ],
      "execution_count": 0,
      "outputs": []
    },
    {
      "metadata": {
        "id": "T_83vsD7FLib",
        "colab_type": "code",
        "outputId": "fb4e9df0-941b-4da4-bb31-42155d9d7df0",
        "colab": {
          "base_uri": "https://localhost:8080/",
          "height": 118
        }
      },
      "cell_type": "code",
      "source": [
        "nodes = []\n",
        "for i in range(len(G.nodes)):\n",
        "  nodes.append(selected_eigvecs[:, i])\n",
        "nodes"
      ],
      "execution_count": 45,
      "outputs": [
        {
          "output_type": "execute_result",
          "data": {
            "text/plain": [
              "[array([-0.43519414, -0.43519414]),\n",
              " array([-0.44562968, -0.44562968]),\n",
              " array([-0.70710678, -0.70710678]),\n",
              " array([0.32349832, 0.32349832]),\n",
              " array([0.30335618, 0.30335618]),\n",
              " array([-0.00111459, -0.00111459])]"
            ]
          },
          "metadata": {
            "tags": []
          },
          "execution_count": 45
        }
      ]
    },
    {
      "metadata": {
        "id": "tsLzhpU_BdGJ",
        "colab_type": "code",
        "colab": {}
      },
      "cell_type": "code",
      "source": [
        "kmeans = KMeans(n_clusters=2, init = 'k-means++').fit(nodes)"
      ],
      "execution_count": 0,
      "outputs": []
    },
    {
      "metadata": {
        "id": "z0mPyU7dCRG3",
        "colab_type": "code",
        "outputId": "1ef7b6aa-64aa-441d-ce1e-c503b8f76a0d",
        "colab": {
          "base_uri": "https://localhost:8080/",
          "height": 34
        }
      },
      "cell_type": "code",
      "source": [
        "kmeans.labels_"
      ],
      "execution_count": 47,
      "outputs": [
        {
          "output_type": "execute_result",
          "data": {
            "text/plain": [
              "array([0, 0, 0, 1, 1, 1], dtype=int32)"
            ]
          },
          "metadata": {
            "tags": []
          },
          "execution_count": 47
        }
      ]
    },
    {
      "metadata": {
        "id": "sbVwaDtNDeuc",
        "colab_type": "code",
        "colab": {}
      },
      "cell_type": "code",
      "source": [
        ""
      ],
      "execution_count": 0,
      "outputs": []
    },
    {
      "metadata": {
        "id": "KJPyNCLhDtCd",
        "colab_type": "code",
        "colab": {}
      },
      "cell_type": "code",
      "source": [
        ""
      ],
      "execution_count": 0,
      "outputs": []
    },
    {
      "metadata": {
        "id": "8mwsixkiM_d2",
        "colab_type": "code",
        "colab": {}
      },
      "cell_type": "code",
      "source": [
        ""
      ],
      "execution_count": 0,
      "outputs": []
    },
    {
      "metadata": {
        "id": "Sneq63jgNLmJ",
        "colab_type": "code",
        "colab": {}
      },
      "cell_type": "code",
      "source": [
        ""
      ],
      "execution_count": 0,
      "outputs": []
    },
    {
      "metadata": {
        "id": "2w7GV9OJNM6V",
        "colab_type": "code",
        "colab": {}
      },
      "cell_type": "code",
      "source": [
        ""
      ],
      "execution_count": 0,
      "outputs": []
    }
  ]
}