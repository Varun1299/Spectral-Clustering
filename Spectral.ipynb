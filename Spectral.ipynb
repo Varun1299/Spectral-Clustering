{
  "nbformat": 4,
  "nbformat_minor": 0,
  "metadata": {
    "colab": {
      "name": "Spectral.ipynb",
      "version": "0.3.2",
      "provenance": [],
      "collapsed_sections": [],
      "include_colab_link": true
    },
    "kernelspec": {
      "name": "python3",
      "display_name": "Python 3"
    }
  },
  "cells": [
    {
      "cell_type": "markdown",
      "metadata": {
        "id": "view-in-github",
        "colab_type": "text"
      },
      "source": [
        "<a href=\"https://colab.research.google.com/github/Varun1299/Spectral-Clustering/blob/master/Spectral.ipynb\" target=\"_parent\"><img src=\"https://colab.research.google.com/assets/colab-badge.svg\" alt=\"Open In Colab\"/></a>"
      ]
    },
    {
      "metadata": {
        "id": "4VdVJ_sW1RBK",
        "colab_type": "code",
        "colab": {}
      },
      "cell_type": "code",
      "source": [
        "import networkx as nx\n",
        "import numpy as np\n",
        "from sklearn.cluster import KMeans\n",
        "import matplotlib.pyplot as plt\n",
        "import math"
      ],
      "execution_count": 0,
      "outputs": []
    },
    {
      "metadata": {
        "id": "TwCkgRTd1lLa",
        "colab_type": "code",
        "colab": {}
      },
      "cell_type": "code",
      "source": [
        "G=nx.Graph()"
      ],
      "execution_count": 0,
      "outputs": []
    },
    {
      "metadata": {
        "id": "9_mVMBDR2Ene",
        "colab_type": "code",
        "colab": {}
      },
      "cell_type": "code",
      "source": [
        "G.add_edge(1,2)\n",
        "G.add_edge(1,3)\n",
        "G.add_edge(3,2)\n",
        "G.add_edge(6,5)\n",
        "G.add_edge(6,4)\n",
        "G.add_edge(4,5)"
      ],
      "execution_count": 0,
      "outputs": []
    },
    {
      "metadata": {
        "id": "WxeVtnjg2Raq",
        "colab_type": "code",
        "colab": {
          "base_uri": "https://localhost:8080/",
          "height": 34
        },
        "outputId": "e13e4b91-a4f1-49d1-ab85-87097f87f733"
      },
      "cell_type": "code",
      "source": [
        "G.nodes"
      ],
      "execution_count": 22,
      "outputs": [
        {
          "output_type": "execute_result",
          "data": {
            "text/plain": [
              "NodeView((1, 2, 3, 6, 5, 4))"
            ]
          },
          "metadata": {
            "tags": []
          },
          "execution_count": 22
        }
      ]
    },
    {
      "metadata": {
        "id": "2jx5r4BX2UxI",
        "colab_type": "code",
        "colab": {}
      },
      "cell_type": "code",
      "source": [
        "A = nx.adjacency_matrix(G)"
      ],
      "execution_count": 0,
      "outputs": []
    },
    {
      "metadata": {
        "id": "xkBzHKNM2ZMr",
        "colab_type": "code",
        "colab": {
          "base_uri": "https://localhost:8080/",
          "height": 118
        },
        "outputId": "a263dd21-8011-424f-99b6-6437a6aa3fd2"
      },
      "cell_type": "code",
      "source": [
        "print(A.todense())"
      ],
      "execution_count": 24,
      "outputs": [
        {
          "output_type": "stream",
          "text": [
            "[[0 1 1 0 0 0]\n",
            " [1 0 1 0 0 0]\n",
            " [1 1 0 0 0 0]\n",
            " [0 0 0 0 1 1]\n",
            " [0 0 0 1 0 1]\n",
            " [0 0 0 1 1 0]]\n"
          ],
          "name": "stdout"
        }
      ]
    },
    {
      "metadata": {
        "id": "zEAPPRhE2dY0",
        "colab_type": "code",
        "colab": {}
      },
      "cell_type": "code",
      "source": [
        "D = np.zeros((len(G.nodes), len(G.nodes)))  "
      ],
      "execution_count": 0,
      "outputs": []
    },
    {
      "metadata": {
        "id": "v2I_CTr73I3B",
        "colab_type": "code",
        "colab": {
          "base_uri": "https://localhost:8080/",
          "height": 134
        },
        "outputId": "5c0226ba-daa1-4260-dfac-f9e7d7d75c62"
      },
      "cell_type": "code",
      "source": [
        "indexer = 0\n",
        "for node in G.nodes:\n",
        "  D[indexer][indexer] = G.degree(node)\n",
        "  indexer += 1\n",
        "print(D)\n",
        "print(G.degree(6))"
      ],
      "execution_count": 26,
      "outputs": [
        {
          "output_type": "stream",
          "text": [
            "[[2. 0. 0. 0. 0. 0.]\n",
            " [0. 2. 0. 0. 0. 0.]\n",
            " [0. 0. 2. 0. 0. 0.]\n",
            " [0. 0. 0. 2. 0. 0.]\n",
            " [0. 0. 0. 0. 2. 0.]\n",
            " [0. 0. 0. 0. 0. 2.]]\n",
            "2\n"
          ],
          "name": "stdout"
        }
      ]
    },
    {
      "metadata": {
        "id": "vCiy9K8z31cJ",
        "colab_type": "code",
        "colab": {}
      },
      "cell_type": "code",
      "source": [
        "L = D - A"
      ],
      "execution_count": 0,
      "outputs": []
    },
    {
      "metadata": {
        "id": "2BcmbJ7a85iH",
        "colab_type": "code",
        "colab": {
          "base_uri": "https://localhost:8080/",
          "height": 118
        },
        "outputId": "76d7d602-3715-49a7-ab5f-c5036552a90f"
      },
      "cell_type": "code",
      "source": [
        "L"
      ],
      "execution_count": 28,
      "outputs": [
        {
          "output_type": "execute_result",
          "data": {
            "text/plain": [
              "matrix([[ 2., -1., -1.,  0.,  0.,  0.],\n",
              "        [-1.,  2., -1.,  0.,  0.,  0.],\n",
              "        [-1., -1.,  2.,  0.,  0.,  0.],\n",
              "        [ 0.,  0.,  0.,  2., -1., -1.],\n",
              "        [ 0.,  0.,  0., -1.,  2., -1.],\n",
              "        [ 0.,  0.,  0., -1., -1.,  2.]])"
            ]
          },
          "metadata": {
            "tags": []
          },
          "execution_count": 28
        }
      ]
    },
    {
      "metadata": {
        "id": "wgtmjIF868-g",
        "colab_type": "code",
        "colab": {}
      },
      "cell_type": "code",
      "source": [
        "for rowidx in range(L.shape[0]):\n",
        "  L[rowidx] = L[rowidx]/float(L[rowidx, rowidx])"
      ],
      "execution_count": 0,
      "outputs": []
    },
    {
      "metadata": {
        "id": "VTsuaLRh7ivj",
        "colab_type": "code",
        "colab": {
          "base_uri": "https://localhost:8080/",
          "height": 118
        },
        "outputId": "ba2db90c-f95e-49af-fc72-f7a8a69afe37"
      },
      "cell_type": "code",
      "source": [
        "L"
      ],
      "execution_count": 30,
      "outputs": [
        {
          "output_type": "execute_result",
          "data": {
            "text/plain": [
              "matrix([[ 1. , -0.5, -0.5,  0. ,  0. ,  0. ],\n",
              "        [-0.5,  1. , -0.5,  0. ,  0. ,  0. ],\n",
              "        [-0.5, -0.5,  1. ,  0. ,  0. ,  0. ],\n",
              "        [ 0. ,  0. ,  0. ,  1. , -0.5, -0.5],\n",
              "        [ 0. ,  0. ,  0. , -0.5,  1. , -0.5],\n",
              "        [ 0. ,  0. ,  0. , -0.5, -0.5,  1. ]])"
            ]
          },
          "metadata": {
            "tags": []
          },
          "execution_count": 30
        }
      ]
    },
    {
      "metadata": {
        "id": "nTp_L_8175Bz",
        "colab_type": "code",
        "colab": {
          "base_uri": "https://localhost:8080/",
          "height": 34
        },
        "outputId": "937772dd-56a3-48a3-a23d-8b7471078823"
      },
      "cell_type": "code",
      "source": [
        "L.item((1,1))"
      ],
      "execution_count": 31,
      "outputs": [
        {
          "output_type": "execute_result",
          "data": {
            "text/plain": [
              "1.0"
            ]
          },
          "metadata": {
            "tags": []
          },
          "execution_count": 31
        }
      ]
    },
    {
      "metadata": {
        "id": "JMf1JU6y77V6",
        "colab_type": "code",
        "colab": {}
      },
      "cell_type": "code",
      "source": [
        "eigvals,eigvecs = np.linalg.eig(L)"
      ],
      "execution_count": 0,
      "outputs": []
    },
    {
      "metadata": {
        "id": "j5EXrrV_8qxH",
        "colab_type": "code",
        "colab": {
          "base_uri": "https://localhost:8080/",
          "height": 218
        },
        "outputId": "c79c4019-4894-463f-c3fb-bd09fb29a1ac"
      },
      "cell_type": "code",
      "source": [
        "\n",
        "eigvecs"
      ],
      "execution_count": 33,
      "outputs": [
        {
          "output_type": "execute_result",
          "data": {
            "text/plain": [
              "matrix([[ 0.81649658, -0.57735027,  0.29329423,  0.        ,  0.        ,\n",
              "          0.        ],\n",
              "        [-0.40824829, -0.57735027, -0.80655913,  0.        ,  0.        ,\n",
              "          0.        ],\n",
              "        [-0.40824829, -0.57735027,  0.5132649 ,  0.        ,  0.        ,\n",
              "          0.        ],\n",
              "        [ 0.        ,  0.        ,  0.        ,  0.81649658, -0.57735027,\n",
              "          0.29329423],\n",
              "        [ 0.        ,  0.        ,  0.        , -0.40824829, -0.57735027,\n",
              "         -0.80655913],\n",
              "        [ 0.        ,  0.        ,  0.        , -0.40824829, -0.57735027,\n",
              "          0.5132649 ]])"
            ]
          },
          "metadata": {
            "tags": []
          },
          "execution_count": 33
        }
      ]
    },
    {
      "metadata": {
        "id": "ziofthdg8szH",
        "colab_type": "code",
        "colab": {
          "base_uri": "https://localhost:8080/",
          "height": 50
        },
        "outputId": "870425b1-0ee6-45b8-cd4d-848f7e84e80d"
      },
      "cell_type": "code",
      "source": [
        "eigvals"
      ],
      "execution_count": 34,
      "outputs": [
        {
          "output_type": "execute_result",
          "data": {
            "text/plain": [
              "array([ 1.50000000e+00, -1.11022302e-16,  1.50000000e+00,  1.50000000e+00,\n",
              "       -1.11022302e-16,  1.50000000e+00])"
            ]
          },
          "metadata": {
            "tags": []
          },
          "execution_count": 34
        }
      ]
    },
    {
      "metadata": {
        "id": "Aus3ZkYf8tkN",
        "colab_type": "code",
        "colab": {}
      },
      "cell_type": "code",
      "source": [
        "num_clusters = 2"
      ],
      "execution_count": 0,
      "outputs": []
    },
    {
      "metadata": {
        "id": "QKErgnV6H405",
        "colab_type": "code",
        "colab": {}
      },
      "cell_type": "code",
      "source": [
        "selected_eigvecs = []\n",
        "while len(selected_eigvecs) < num_clusters:\n",
        "  idx = np.where(eigvals == min(eigvals))\n",
        "  for i in idx[0]:\n",
        "    selected_eigvecs.append(np.array(eigvecs[i])[0])\n",
        "    if len(selected_eigvecs) == num_clusters:\n",
        "      break\n",
        "selected_eigvecs = np.array(selected_eigvecs)"
      ],
      "execution_count": 0,
      "outputs": []
    },
    {
      "metadata": {
        "id": "uUJqqPb-FLrD",
        "colab_type": "code",
        "colab": {}
      },
      "cell_type": "code",
      "source": [
        ""
      ],
      "execution_count": 0,
      "outputs": []
    },
    {
      "metadata": {
        "id": "T_83vsD7FLib",
        "colab_type": "code",
        "colab": {
          "base_uri": "https://localhost:8080/",
          "height": 118
        },
        "outputId": "2b18874a-aa49-4978-daa5-4bad1186043f"
      },
      "cell_type": "code",
      "source": [
        "nodes = []\n",
        "for i in range(len(G.nodes)):\n",
        "  nodes.append(selected_eigvecs[:, i])\n",
        "nodes"
      ],
      "execution_count": 85,
      "outputs": [
        {
          "output_type": "execute_result",
          "data": {
            "text/plain": [
              "[array([-0.40824829,  0.        ]),\n",
              " array([-0.57735027,  0.        ]),\n",
              " array([-0.80655913,  0.        ]),\n",
              " array([ 0.        , -0.40824829]),\n",
              " array([ 0.        , -0.57735027]),\n",
              " array([ 0.        , -0.80655913])]"
            ]
          },
          "metadata": {
            "tags": []
          },
          "execution_count": 85
        }
      ]
    },
    {
      "metadata": {
        "id": "tsLzhpU_BdGJ",
        "colab_type": "code",
        "colab": {}
      },
      "cell_type": "code",
      "source": [
        "kmeans = KMeans(n_clusters=2, init = 'k-means++').fit(nodes)"
      ],
      "execution_count": 0,
      "outputs": []
    },
    {
      "metadata": {
        "id": "z0mPyU7dCRG3",
        "colab_type": "code",
        "colab": {
          "base_uri": "https://localhost:8080/",
          "height": 34
        },
        "outputId": "61aac6cb-b22e-4abc-809c-cc6a5aeb1b97"
      },
      "cell_type": "code",
      "source": [
        "kmeans.labels_"
      ],
      "execution_count": 87,
      "outputs": [
        {
          "output_type": "execute_result",
          "data": {
            "text/plain": [
              "array([1, 1, 1, 0, 0, 0], dtype=int32)"
            ]
          },
          "metadata": {
            "tags": []
          },
          "execution_count": 87
        }
      ]
    },
    {
      "metadata": {
        "id": "sbVwaDtNDeuc",
        "colab_type": "code",
        "colab": {}
      },
      "cell_type": "code",
      "source": [
        ""
      ],
      "execution_count": 0,
      "outputs": []
    },
    {
      "metadata": {
        "id": "KJPyNCLhDtCd",
        "colab_type": "code",
        "colab": {}
      },
      "cell_type": "code",
      "source": [
        ""
      ],
      "execution_count": 0,
      "outputs": []
    },
    {
      "metadata": {
        "id": "8mwsixkiM_d2",
        "colab_type": "code",
        "colab": {
          "base_uri": "https://localhost:8080/",
          "height": 84
        },
        "outputId": "b1bf14fc-871c-4ae9-f104-40cf9f0ddefa"
      },
      "cell_type": "code",
      "source": [
        ""
      ],
      "execution_count": 81,
      "outputs": [
        {
          "output_type": "execute_result",
          "data": {
            "text/plain": [
              "array([[-0.40824829, -0.57735027, -0.80655913,  0.        ,  0.        ,\n",
              "         0.        ],\n",
              "       [ 0.        ,  0.        ,  0.        , -0.40824829, -0.57735027,\n",
              "        -0.80655913]])"
            ]
          },
          "metadata": {
            "tags": []
          },
          "execution_count": 81
        }
      ]
    },
    {
      "metadata": {
        "id": "Sneq63jgNLmJ",
        "colab_type": "code",
        "colab": {
          "base_uri": "https://localhost:8080/",
          "height": 34
        },
        "outputId": "1c1a8866-a8e5-4c5e-a336-d36508e1cc61"
      },
      "cell_type": "code",
      "source": [
        ""
      ],
      "execution_count": 82,
      "outputs": [
        {
          "output_type": "execute_result",
          "data": {
            "text/plain": [
              "array([-0.57735027,  0.        ])"
            ]
          },
          "metadata": {
            "tags": []
          },
          "execution_count": 82
        }
      ]
    },
    {
      "metadata": {
        "id": "2w7GV9OJNM6V",
        "colab_type": "code",
        "colab": {}
      },
      "cell_type": "code",
      "source": [
        ""
      ],
      "execution_count": 0,
      "outputs": []
    }
  ]
}