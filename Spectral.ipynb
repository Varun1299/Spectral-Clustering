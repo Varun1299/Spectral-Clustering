{
  "nbformat": 4,
  "nbformat_minor": 0,
  "metadata": {
    "colab": {
      "name": "Spectral.ipynb",
      "version": "0.3.2",
      "provenance": [],
      "collapsed_sections": [],
      "include_colab_link": true
    },
    "kernelspec": {
      "name": "python3",
      "display_name": "Python 3"
    }
  },
  "cells": [
    {
      "cell_type": "markdown",
      "metadata": {
        "id": "view-in-github",
        "colab_type": "text"
      },
      "source": [
        "<a href=\"https://colab.research.google.com/github/Varun1299/Spectral-Clustering/blob/master/Spectral.ipynb\" target=\"_parent\"><img src=\"https://colab.research.google.com/assets/colab-badge.svg\" alt=\"Open In Colab\"/></a>"
      ]
    },
    {
      "metadata": {
        "id": "4VdVJ_sW1RBK",
        "colab_type": "code",
        "colab": {}
      },
      "cell_type": "code",
      "source": [
        "import networkx as nx\n",
        "import numpy as np\n",
        "from sklearn.cluster import KMeans\n",
        "import matplotlib.pyplot as plt\n",
        "import math"
      ],
      "execution_count": 0,
      "outputs": []
    },
    {
      "metadata": {
        "id": "TwCkgRTd1lLa",
        "colab_type": "code",
        "colab": {}
      },
      "cell_type": "code",
      "source": [
        "G=nx.Graph()"
      ],
      "execution_count": 0,
      "outputs": []
    },
    {
      "metadata": {
        "id": "9_mVMBDR2Ene",
        "colab_type": "code",
        "colab": {}
      },
      "cell_type": "code",
      "source": [
        "G.add_edge(1,2, weight = 1)\n",
        "G.add_edge(1,3, weight = 1)\n",
        "G.add_edge(2,3, weight = 1)\n",
        "G.add_edge(2,4, weight = 0.2)\n",
        "G.add_edge(4,5, weight = 1)\n",
        "G.add_edge(5,6, weight = 1)\n",
        "G.add_edge(4,6, weight = 1)"
      ],
      "execution_count": 0,
      "outputs": []
    },
    {
      "metadata": {
        "id": "WxeVtnjg2Raq",
        "colab_type": "code",
        "outputId": "7f53c46e-8bc6-4a02-e8a6-33fb6fbe6473",
        "colab": {
          "base_uri": "https://localhost:8080/",
          "height": 34
        }
      },
      "cell_type": "code",
      "source": [
        "G.nodes"
      ],
      "execution_count": 4,
      "outputs": [
        {
          "output_type": "execute_result",
          "data": {
            "text/plain": [
              "NodeView((1, 2, 3, 4, 5, 6))"
            ]
          },
          "metadata": {
            "tags": []
          },
          "execution_count": 4
        }
      ]
    },
    {
      "metadata": {
        "id": "2jx5r4BX2UxI",
        "colab_type": "code",
        "colab": {}
      },
      "cell_type": "code",
      "source": [
        "A = nx.adjacency_matrix(G)"
      ],
      "execution_count": 0,
      "outputs": []
    },
    {
      "metadata": {
        "id": "xkBzHKNM2ZMr",
        "colab_type": "code",
        "outputId": "c6cdfd32-f7f5-4a21-c1ad-68f7b9ba1e41",
        "colab": {
          "base_uri": "https://localhost:8080/",
          "height": 118
        }
      },
      "cell_type": "code",
      "source": [
        "print(A.todense())"
      ],
      "execution_count": 6,
      "outputs": [
        {
          "output_type": "stream",
          "text": [
            "[[0.  1.  1.  0.  0.  0. ]\n",
            " [1.  0.  1.  0.2 0.  0. ]\n",
            " [1.  1.  0.  0.  0.  0. ]\n",
            " [0.  0.2 0.  0.  1.  1. ]\n",
            " [0.  0.  0.  1.  0.  1. ]\n",
            " [0.  0.  0.  1.  1.  0. ]]\n"
          ],
          "name": "stdout"
        }
      ]
    },
    {
      "metadata": {
        "id": "zEAPPRhE2dY0",
        "colab_type": "code",
        "colab": {}
      },
      "cell_type": "code",
      "source": [
        "D = np.zeros((len(G.nodes), len(G.nodes)))  "
      ],
      "execution_count": 0,
      "outputs": []
    },
    {
      "metadata": {
        "id": "v2I_CTr73I3B",
        "colab_type": "code",
        "outputId": "3de6c795-9ed5-44d0-fe80-29197f518dbd",
        "colab": {
          "base_uri": "https://localhost:8080/",
          "height": 134
        }
      },
      "cell_type": "code",
      "source": [
        "indexer = 0\n",
        "for node in G.nodes:\n",
        "  D[indexer][indexer] = G.degree(node)\n",
        "  indexer += 1\n",
        "print(D)\n",
        "print(G.degree(6))"
      ],
      "execution_count": 8,
      "outputs": [
        {
          "output_type": "stream",
          "text": [
            "[[2. 0. 0. 0. 0. 0.]\n",
            " [0. 3. 0. 0. 0. 0.]\n",
            " [0. 0. 2. 0. 0. 0.]\n",
            " [0. 0. 0. 3. 0. 0.]\n",
            " [0. 0. 0. 0. 2. 0.]\n",
            " [0. 0. 0. 0. 0. 2.]]\n",
            "2\n"
          ],
          "name": "stdout"
        }
      ]
    },
    {
      "metadata": {
        "id": "vCiy9K8z31cJ",
        "colab_type": "code",
        "colab": {}
      },
      "cell_type": "code",
      "source": [
        "L = D - A"
      ],
      "execution_count": 0,
      "outputs": []
    },
    {
      "metadata": {
        "id": "2BcmbJ7a85iH",
        "colab_type": "code",
        "outputId": "e37b88a5-f599-498d-c0f0-7968ddbde1d6",
        "colab": {
          "base_uri": "https://localhost:8080/",
          "height": 118
        }
      },
      "cell_type": "code",
      "source": [
        "L"
      ],
      "execution_count": 10,
      "outputs": [
        {
          "output_type": "execute_result",
          "data": {
            "text/plain": [
              "matrix([[ 2. , -1. , -1. ,  0. ,  0. ,  0. ],\n",
              "        [-1. ,  3. , -1. , -0.2,  0. ,  0. ],\n",
              "        [-1. , -1. ,  2. ,  0. ,  0. ,  0. ],\n",
              "        [ 0. , -0.2,  0. ,  3. , -1. , -1. ],\n",
              "        [ 0. ,  0. ,  0. , -1. ,  2. , -1. ],\n",
              "        [ 0. ,  0. ,  0. , -1. , -1. ,  2. ]])"
            ]
          },
          "metadata": {
            "tags": []
          },
          "execution_count": 10
        }
      ]
    },
    {
      "metadata": {
        "id": "wgtmjIF868-g",
        "colab_type": "code",
        "colab": {}
      },
      "cell_type": "code",
      "source": [
        "for rowidx in range(L.shape[0]):\n",
        "  L[rowidx] = L[rowidx]/float(L[rowidx, rowidx])"
      ],
      "execution_count": 0,
      "outputs": []
    },
    {
      "metadata": {
        "id": "VTsuaLRh7ivj",
        "colab_type": "code",
        "outputId": "33b18a7a-6a74-47ed-fd1a-70d2c43f83a3",
        "colab": {
          "base_uri": "https://localhost:8080/",
          "height": 218
        }
      },
      "cell_type": "code",
      "source": [
        "L"
      ],
      "execution_count": 12,
      "outputs": [
        {
          "output_type": "execute_result",
          "data": {
            "text/plain": [
              "matrix([[ 1.        , -0.5       , -0.5       ,  0.        ,  0.        ,\n",
              "          0.        ],\n",
              "        [-0.33333333,  1.        , -0.33333333, -0.06666667,  0.        ,\n",
              "          0.        ],\n",
              "        [-0.5       , -0.5       ,  1.        ,  0.        ,  0.        ,\n",
              "          0.        ],\n",
              "        [ 0.        , -0.06666667,  0.        ,  1.        , -0.33333333,\n",
              "         -0.33333333],\n",
              "        [ 0.        ,  0.        ,  0.        , -0.5       ,  1.        ,\n",
              "         -0.5       ],\n",
              "        [ 0.        ,  0.        ,  0.        , -0.5       , -0.5       ,\n",
              "          1.        ]])"
            ]
          },
          "metadata": {
            "tags": []
          },
          "execution_count": 12
        }
      ]
    },
    {
      "metadata": {
        "id": "nTp_L_8175Bz",
        "colab_type": "code",
        "outputId": "960ec54d-19e7-44f5-cf4e-86a1becbf096",
        "colab": {
          "base_uri": "https://localhost:8080/",
          "height": 34
        }
      },
      "cell_type": "code",
      "source": [
        "L.item((1,1))"
      ],
      "execution_count": 13,
      "outputs": [
        {
          "output_type": "execute_result",
          "data": {
            "text/plain": [
              "1.0"
            ]
          },
          "metadata": {
            "tags": []
          },
          "execution_count": 13
        }
      ]
    },
    {
      "metadata": {
        "id": "JMf1JU6y77V6",
        "colab_type": "code",
        "colab": {}
      },
      "cell_type": "code",
      "source": [
        "eigvals,eigvecs = np.linalg.eig(L)"
      ],
      "execution_count": 0,
      "outputs": []
    },
    {
      "metadata": {
        "id": "j5EXrrV_8qxH",
        "colab_type": "code",
        "outputId": "e4e43f8f-b1bb-4aac-ad71-0d969d162b5f",
        "colab": {
          "base_uri": "https://localhost:8080/",
          "height": 218
        }
      },
      "cell_type": "code",
      "source": [
        "\n",
        "eigvecs"
      ],
      "execution_count": 15,
      "outputs": [
        {
          "output_type": "execute_result",
          "data": {
            "text/plain": [
              "matrix([[-4.35194140e-01, -4.45629685e-01, -7.07106781e-01,\n",
              "          3.23498320e-01,  3.03356177e-01, -1.11459175e-03],\n",
              "        [-3.48155312e-01, -3.20668626e-01, -4.49559703e-15,\n",
              "         -5.39163866e-01, -5.62094351e-01,  1.83111978e-16],\n",
              "        [-4.35194140e-01, -4.45629685e-01,  7.07106781e-01,\n",
              "          3.23498320e-01,  3.03356177e-01,  1.11459175e-03],\n",
              "        [-3.48155312e-01,  3.20668626e-01, -2.06055195e-16,\n",
              "         -5.39163866e-01,  5.62094351e-01, -2.66912227e-16],\n",
              "        [-4.35194140e-01,  4.45629685e-01,  5.90229285e-17,\n",
              "          3.23498320e-01, -3.03356177e-01, -7.07105903e-01],\n",
              "        [-4.35194140e-01,  4.45629685e-01,  3.12673328e-17,\n",
              "          3.23498320e-01, -3.03356177e-01,  7.07105903e-01]])"
            ]
          },
          "metadata": {
            "tags": []
          },
          "execution_count": 15
        }
      ]
    },
    {
      "metadata": {
        "id": "ziofthdg8szH",
        "colab_type": "code",
        "outputId": "c3742348-52a8-4d67-8167-0efa565deb24",
        "colab": {
          "base_uri": "https://localhost:8080/",
          "height": 50
        }
      },
      "cell_type": "code",
      "source": [
        "eigvals"
      ],
      "execution_count": 16,
      "outputs": [
        {
          "output_type": "execute_result",
          "data": {
            "text/plain": [
              "array([0.1       , 0.14020729, 1.5       , 1.33333333, 1.42645938,\n",
              "       1.5       ])"
            ]
          },
          "metadata": {
            "tags": []
          },
          "execution_count": 16
        }
      ]
    },
    {
      "metadata": {
        "id": "Aus3ZkYf8tkN",
        "colab_type": "code",
        "colab": {}
      },
      "cell_type": "code",
      "source": [
        "num_clusters = 2"
      ],
      "execution_count": 0,
      "outputs": []
    },
    {
      "metadata": {
        "id": "QKErgnV6H405",
        "colab_type": "code",
        "colab": {}
      },
      "cell_type": "code",
      "source": [
        "selected_eigvecs = []\n",
        "while len(selected_eigvecs) < num_clusters:\n",
        "  idx = np.where(eigvals == min(eigvals))\n",
        "  for i in idx[0]:\n",
        "    selected_eigvecs.append(np.array(eigvecs[i])[0])\n",
        "    if len(selected_eigvecs) == num_clusters:\n",
        "      break\n",
        "selected_eigvecs = np.array(selected_eigvecs)"
      ],
      "execution_count": 0,
      "outputs": []
    },
    {
      "metadata": {
        "id": "uUJqqPb-FLrD",
        "colab_type": "code",
        "colab": {}
      },
      "cell_type": "code",
      "source": [
        ""
      ],
      "execution_count": 0,
      "outputs": []
    },
    {
      "metadata": {
        "id": "T_83vsD7FLib",
        "colab_type": "code",
        "outputId": "c731c157-da0a-4849-c85e-d079ec79cab9",
        "colab": {
          "base_uri": "https://localhost:8080/",
          "height": 118
        }
      },
      "cell_type": "code",
      "source": [
        "nodes = []\n",
        "for i in range(len(G.nodes)):\n",
        "  nodes.append(selected_eigvecs[:, i])\n",
        "nodes"
      ],
      "execution_count": 19,
      "outputs": [
        {
          "output_type": "execute_result",
          "data": {
            "text/plain": [
              "[array([-0.43519414, -0.43519414]),\n",
              " array([-0.44562968, -0.44562968]),\n",
              " array([-0.70710678, -0.70710678]),\n",
              " array([0.32349832, 0.32349832]),\n",
              " array([0.30335618, 0.30335618]),\n",
              " array([-0.00111459, -0.00111459])]"
            ]
          },
          "metadata": {
            "tags": []
          },
          "execution_count": 19
        }
      ]
    },
    {
      "metadata": {
        "id": "tsLzhpU_BdGJ",
        "colab_type": "code",
        "colab": {}
      },
      "cell_type": "code",
      "source": [
        "kmeans = KMeans(n_clusters=2, init = 'k-means++').fit(nodes)"
      ],
      "execution_count": 0,
      "outputs": []
    },
    {
      "metadata": {
        "id": "z0mPyU7dCRG3",
        "colab_type": "code",
        "outputId": "082993a0-013d-46a0-9b3c-bd5bf2fee1c5",
        "colab": {
          "base_uri": "https://localhost:8080/",
          "height": 34
        }
      },
      "cell_type": "code",
      "source": [
        "kmeans.labels_"
      ],
      "execution_count": 21,
      "outputs": [
        {
          "output_type": "execute_result",
          "data": {
            "text/plain": [
              "array([0, 0, 0, 1, 1, 1], dtype=int32)"
            ]
          },
          "metadata": {
            "tags": []
          },
          "execution_count": 21
        }
      ]
    },
    {
      "metadata": {
        "id": "k2uyL81LERVg",
        "colab_type": "code",
        "colab": {}
      },
      "cell_type": "code",
      "source": [
        ""
      ],
      "execution_count": 0,
      "outputs": []
    },
    {
      "metadata": {
        "id": "sbVwaDtNDeuc",
        "colab_type": "code",
        "colab": {
          "base_uri": "https://localhost:8080/",
          "height": 494
        },
        "outputId": "f4ac1655-c4aa-4f8d-8dae-e19b1b3f636a"
      },
      "cell_type": "code",
      "source": [
        "nx.draw(G, pos=nx.spring_layout(G), with_labels = True, node_color = kmeans.labels_)\n",
        "plt.show"
      ],
      "execution_count": 35,
      "outputs": [
        {
          "output_type": "stream",
          "text": [
            "/usr/local/lib/python3.6/dist-packages/networkx/drawing/nx_pylab.py:611: MatplotlibDeprecationWarning: isinstance(..., numbers.Number)\n",
            "  if cb.is_numlike(alpha):\n"
          ],
          "name": "stderr"
        },
        {
          "output_type": "execute_result",
          "data": {
            "text/plain": [
              "<function matplotlib.pyplot.show>"
            ]
          },
          "metadata": {
            "tags": []
          },
          "execution_count": 35
        },
        {
          "output_type": "display_data",
          "data": {
            "image/png": "[encoded data removed]",
            "text/plain": [
              "<Figure size 576x396 with 1 Axes>"
            ]
          },
          "metadata": {
            "tags": []
          }
        }
      ]
    },
    {
      "metadata": {
        "id": "KJPyNCLhDtCd",
        "colab_type": "code",
        "colab": {}
      },
      "cell_type": "code",
      "source": [
        ""
      ],
      "execution_count": 0,
      "outputs": []
    },
    {
      "metadata": {
        "id": "8mwsixkiM_d2",
        "colab_type": "code",
        "colab": {}
      },
      "cell_type": "code",
      "source": [
        ""
      ],
      "execution_count": 0,
      "outputs": []
    },
    {
      "metadata": {
        "id": "Sneq63jgNLmJ",
        "colab_type": "code",
        "colab": {}
      },
      "cell_type": "code",
      "source": [
        ""
      ],
      "execution_count": 0,
      "outputs": []
    },
    {
      "metadata": {
        "id": "2w7GV9OJNM6V",
        "colab_type": "code",
        "colab": {}
      },
      "cell_type": "code",
      "source": [
        ""
      ],
      "execution_count": 0,
      "outputs": []
    }
  ]
}